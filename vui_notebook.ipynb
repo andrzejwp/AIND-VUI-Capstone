{
 "cells": [
  {
   "cell_type": "markdown",
   "metadata": {},
   "source": [
    "# Artificial Intelligence Nanodegree\n",
    "\n",
    "## Voice User Interfaces\n",
    "\n",
    "## Project: Speech Recognition with Neural Networks\n",
    "\n",
    "---\n",
    "\n",
    "In this notebook, some template code has already been provided for you, and you will need to implement additional functionality to successfully complete this project. You will not need to modify the included code beyond what is requested. Sections that begin with **'(IMPLEMENTATION)'** in the header indicate that the following blocks of code will require additional functionality which you must provide. Please be sure to read the instructions carefully! \n",
    "\n",
    "> **Note**: Once you have completed all of the code implementations, you need to finalize your work by exporting the Jupyter Notebook as an HTML document. Before exporting the notebook to html, all of the code cells need to have been run so that reviewers can see the final implementation and output. You can then export the notebook by using the menu above and navigating to  \\n\",\n",
    "    \"**File -> Download as -> HTML (.html)**. Include the finished document along with this notebook as your submission.\n",
    "\n",
    "In addition to implementing code, there will be questions that you must answer which relate to the project and your implementation. Each section where you will answer a question is preceded by a **'Question X'** header. Carefully read each question and provide thorough answers in the following text boxes that begin with **'Answer:'**. Your project submission will be evaluated based on your answers to each of the questions and the implementation you provide.\n",
    "\n",
    ">**Note:** Code and Markdown cells can be executed using the **Shift + Enter** keyboard shortcut.  Markdown cells can be edited by double-clicking the cell to enter edit mode.\n",
    "\n",
    "The rubric contains _optional_ \"Stand Out Suggestions\" for enhancing the project beyond the minimum requirements. If you decide to pursue the \"Stand Out Suggestions\", you should include the code in this Jupyter notebook.\n",
    "\n",
    "---\n",
    "\n",
    "## Introduction  \n",
    "\n",
    "In this notebook, you will build a deep neural network that functions as part of an end-to-end automatic speech recognition (ASR) pipeline!  Your completed pipeline will accept raw audio as input and return a predicted transcription of the spoken language.  The full pipeline is summarized in the figure below.\n",
    "\n",
    "<img src=\"images/pipeline.png\">\n",
    "\n",
    "- **STEP 1** is a pre-processing step that converts raw audio to one of two feature representations that are commonly used for ASR. \n",
    "- **STEP 2** is an acoustic model which accepts audio features as input and returns a probability distribution over all potential transcriptions.  After learning about the basic types of neural networks that are often used for acoustic modeling, you will engage in your own investigations, to design your own acoustic model!\n",
    "- **STEP 3** in the pipeline takes the output from the acoustic model and returns a predicted transcription.  \n",
    "\n",
    "Feel free to use the links below to navigate the notebook:\n",
    "- [The Data](#thedata)\n",
    "- [**STEP 1**](#step1): Acoustic Features for Speech Recognition\n",
    "- [**STEP 2**](#step2): Deep Neural Networks for Acoustic Modeling\n",
    "    - [Model 0](#model0): RNN\n",
    "    - [Model 1](#model1): RNN + TimeDistributed Dense\n",
    "    - [Model 2](#model2): CNN + RNN + TimeDistributed Dense\n",
    "    - [Model 3](#model3): Deeper RNN + TimeDistributed Dense\n",
    "    - [Model 4](#model4): Bidirectional RNN + TimeDistributed Dense\n",
    "    - [Models 5+](#model5)\n",
    "    - [Compare the Models](#compare)\n",
    "    - [Final Model](#final)\n",
    "- [**STEP 3**](#step3): Obtain Predictions\n",
    "\n",
    "<a id='thedata'></a>\n",
    "## The Data\n",
    "\n",
    "We begin by investigating the dataset that will be used to train and evaluate your pipeline.  [LibriSpeech](http://www.danielpovey.com/files/2015_icassp_librispeech.pdf) is a large corpus of English-read speech, designed for training and evaluating models for ASR.  The dataset contains 1000 hours of speech derived from audiobooks.  We will work with a small subset in this project, since larger-scale data would take a long while to train.  However, after completing this project, if you are interested in exploring further, you are encouraged to work with more of the data that is provided [online](http://www.openslr.org/12/).\n",
    "\n",
    "In the code cells below, you will use the `vis_train_features` module to visualize a training example.  The supplied argument `index=0` tells the module to extract the first example in the training set.  (You are welcome to change `index=0` to point to a different training example, if you like, but please **DO NOT** amend any other code in the cell.)  The returned variables are:\n",
    "- `vis_text` - transcribed text (label) for the training example.\n",
    "- `vis_raw_audio` - raw audio waveform for the training example.\n",
    "- `vis_mfcc_feature` - mel-frequency cepstral coefficients (MFCCs) for the training example.\n",
    "- `vis_spectrogram_feature` - spectrogram for the training example. \n",
    "- `vis_audio_path` - the file path to the training example."
   ]
  },
  {
   "cell_type": "code",
   "execution_count": 2,
   "metadata": {
    "scrolled": false
   },
   "outputs": [
    {
     "name": "stdout",
     "output_type": "stream",
     "text": [
      "There are 2136 total training examples.\n"
     ]
    }
   ],
   "source": [
    "from data_generator import vis_train_features\n",
    "\n",
    "# extract label and audio features for a single training example\n",
    "vis_text, vis_raw_audio, vis_mfcc_feature, vis_spectrogram_feature, vis_audio_path = vis_train_features()"
   ]
  },
  {
   "cell_type": "markdown",
   "metadata": {},
   "source": [
    "The following code cell visualizes the audio waveform for your chosen example, along with the corresponding transcript.  You also have the option to play the audio in the notebook!"
   ]
  },
  {
   "cell_type": "code",
   "execution_count": 3,
   "metadata": {},
   "outputs": [
    {
     "data": {
      "image/png": "[encoded data removed]",
      "text/plain": [
       "<matplotlib.figure.Figure at 0x7f39dcba87f0>"
      ]
     },
     "metadata": {},
     "output_type": "display_data"
    },
    {
     "data": {
      "text/markdown": [
       "**Shape of Audio Signal** : (88311,)"
      ],
      "text/plain": [
       "<IPython.core.display.Markdown object>"
      ]
     },
     "metadata": {},
     "output_type": "display_data"
    },
    {
     "data": {
      "text/markdown": [
       "**Transcript** : we remained several months but soon we were on the tramp again"
      ],
      "text/plain": [
       "<IPython.core.display.Markdown object>"
      ]
     },
     "metadata": {},
     "output_type": "display_data"
    },
    {
     "data": {
      "text/html": [
       "\n",
       "                <audio controls=\"controls\" >\n",
       "                    <source src=\"data:audio/x-wav;base64,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\" type=\"audio/x-wav\" />\n",
       "                    Your browser does not support the audio element.\n",
       "                </audio>\n",
       "              "
      ],
      "text/plain": [
       "<IPython.lib.display.Audio object>"
      ]
     },
     "execution_count": 3,
     "metadata": {},
     "output_type": "execute_result"
    }
   ],
   "source": [
    "from IPython.display import Markdown, display\n",
    "from data_generator import vis_train_features, plot_raw_audio\n",
    "from IPython.display import Audio\n",
    "%matplotlib inline\n",
    "\n",
    "# plot audio signal\n",
    "plot_raw_audio(vis_raw_audio)\n",
    "# print length of audio signal\n",
    "display(Markdown('**Shape of Audio Signal** : ' + str(vis_raw_audio.shape)))\n",
    "# print transcript corresponding to audio clip\n",
    "display(Markdown('**Transcript** : ' + str(vis_text)))\n",
    "# play the audio file\n",
    "Audio(vis_audio_path)"
   ]
  },
  {
   "cell_type": "markdown",
   "metadata": {},
   "source": [
    "<a id='step1'></a>\n",
    "## STEP 1: Acoustic Features for Speech Recognition\n",
    "\n",
    "For this project, you won't use the raw audio waveform as input to your model.  Instead, we provide code that first performs a pre-processing step to convert the raw audio to a feature representation that has historically proven successful for ASR models.  Your acoustic model will accept the feature representation as input.\n",
    "\n",
    "In this project, you will explore two possible feature representations.  _After completing the project_, if you'd like to read more about deep learning architectures that can accept raw audio input, you are encouraged to explore this [research paper](https://pdfs.semanticscholar.org/a566/cd4a8623d661a4931814d9dffc72ecbf63c4.pdf).\n",
    "\n",
    "### Spectrograms\n",
    "\n",
    "The first option for an audio feature representation is the [spectrogram](https://www.youtube.com/watch?v=_FatxGN3vAM).  In order to complete this project, you will **not** need to dig deeply into the details of how a spectrogram is calculated; but, if you are curious, the code for calculating the spectrogram was borrowed from [this repository](https://github.com/baidu-research/ba-dls-deepspeech).  The implementation appears in the `utils.py` file in your repository.\n",
    "\n",
    "The code that we give you returns the spectrogram as a 2D tensor, where the first (_vertical_) dimension indexes time, and the second (_horizontal_) dimension indexes frequency.  To speed the convergence of your algorithm, we have also normalized the spectrogram.  (You can see this quickly in the visualization below by noting that the mean value hovers around zero, and most entries in the tensor assume values close to zero.)"
   ]
  },
  {
   "cell_type": "code",
   "execution_count": 4,
   "metadata": {},
   "outputs": [
    {
     "data": {
      "image/png": "[encoded data removed]",
      "text/plain": [
       "<matplotlib.figure.Figure at 0x7f3a242a7c50>"
      ]
     },
     "metadata": {},
     "output_type": "display_data"
    },
    {
     "data": {
      "text/markdown": [
       "**Shape of Spectrogram** : (399, 161)"
      ],
      "text/plain": [
       "<IPython.core.display.Markdown object>"
      ]
     },
     "metadata": {},
     "output_type": "display_data"
    }
   ],
   "source": [
    "from data_generator import plot_spectrogram_feature\n",
    "\n",
    "# plot normalized spectrogram\n",
    "plot_spectrogram_feature(vis_spectrogram_feature)\n",
    "# print shape of spectrogram\n",
    "display(Markdown('**Shape of Spectrogram** : ' + str(vis_spectrogram_feature.shape)))"
   ]
  },
  {
   "cell_type": "markdown",
   "metadata": {},
   "source": [
    "### Mel-Frequency Cepstral Coefficients (MFCCs)\n",
    "\n",
    "The second option for an audio feature representation is [MFCCs](https://en.wikipedia.org/wiki/Mel-frequency_cepstrum).  You do **not** need to dig deeply into the details of how MFCCs are calculated, but if you would like more information, you are welcome to peruse the [documentation](https://github.com/jameslyons/python_speech_features) of the `python_speech_features` Python package.  Just as with the spectrogram features, the MFCCs are normalized in the supplied code.\n",
    "\n",
    "The main idea behind MFCC features is the same as spectrogram features: at each time window, the MFCC feature yields a feature vector that characterizes the sound within the window.  Note that the MFCC feature is much lower-dimensional than the spectrogram feature, which could help an acoustic model to avoid overfitting to the training dataset. "
   ]
  },
  {
   "cell_type": "code",
   "execution_count": 5,
   "metadata": {},
   "outputs": [
    {
     "data": {
      "image/png": "[encoded data removed]",
      "text/plain": [
       "<matplotlib.figure.Figure at 0x7f39e5b5aeb8>"
      ]
     },
     "metadata": {},
     "output_type": "display_data"
    },
    {
     "data": {
      "text/markdown": [
       "**Shape of MFCC** : (399, 13)"
      ],
      "text/plain": [
       "<IPython.core.display.Markdown object>"
      ]
     },
     "metadata": {},
     "output_type": "display_data"
    }
   ],
   "source": [
    "from data_generator import plot_mfcc_feature\n",
    "\n",
    "# plot normalized MFCC\n",
    "plot_mfcc_feature(vis_mfcc_feature)\n",
    "# print shape of MFCC\n",
    "display(Markdown('**Shape of MFCC** : ' + str(vis_mfcc_feature.shape)))"
   ]
  },
  {
   "cell_type": "markdown",
   "metadata": {},
   "source": [
    "When you construct your pipeline, you will be able to choose to use either spectrogram or MFCC features.  If you would like to see different implementations that make use of MFCCs and/or spectrograms, please check out the links below:\n",
    "- This [repository](https://github.com/baidu-research/ba-dls-deepspeech) uses spectrograms.\n",
    "- This [repository](https://github.com/mozilla/DeepSpeech) uses MFCCs.\n",
    "- This [repository](https://github.com/buriburisuri/speech-to-text-wavenet) also uses MFCCs.\n",
    "- This [repository](https://github.com/pannous/tensorflow-speech-recognition/blob/master/speech_data.py) experiments with raw audio, spectrograms, and MFCCs as features."
   ]
  },
  {
   "cell_type": "markdown",
   "metadata": {},
   "source": [
    "<a id='step2'></a>\n",
    "## STEP 2: Deep Neural Networks for Acoustic Modeling\n",
    "\n",
    "In this section, you will experiment with various neural network architectures for acoustic modeling.  \n",
    "\n",
    "You will begin by training five relatively simple architectures.  **Model 0** is provided for you.  You will write code to implement **Models 1**, **2**, **3**, and **4**.  If you would like to experiment further, you are welcome to create and train more models under the **Models 5+** heading.  \n",
    "\n",
    "All models will be specified in the `sample_models.py` file.  After importing the `sample_models` module, you will train your architectures in the notebook.\n",
    "\n",
    "After experimenting with the five simple architectures, you will have the opportunity to compare their performance.  Based on your findings, you will construct a deeper architecture that is designed to outperform all of the shallow models.\n",
    "\n",
    "For your convenience, we have designed the notebook so that each model can be specified and trained on separate occasions.  That is, say you decide to take a break from the notebook after training **Model 1**.  Then, you need not re-execute all prior code cells in the notebook before training **Model 2**.  You need only re-execute the code cell below, that is marked with **`RUN THIS CODE CELL IF YOU ARE RESUMING THE NOTEBOOK AFTER A BREAK`**, before transitioning to the code cells corresponding to **Model 2**."
   ]
  },
  {
   "cell_type": "code",
   "execution_count": 9,
   "metadata": {},
   "outputs": [
    {
     "name": "stdout",
     "output_type": "stream",
     "text": [
      "The autoreload extension is already loaded. To reload it, use:\n",
      "  %reload_ext autoreload\n"
     ]
    }
   ],
   "source": [
    "#####################################################################\n",
    "# RUN THIS CODE CELL IF YOU ARE RESUMING THE NOTEBOOK AFTER A BREAK #\n",
    "#####################################################################\n",
    "\n",
    "# allocate 50% of GPU memory (if you like, feel free to change this)\n",
    "from keras.backend.tensorflow_backend import set_session\n",
    "import tensorflow as tf \n",
    "config = tf.ConfigProto()\n",
    "config.gpu_options.per_process_gpu_memory_fraction = 0.7\n",
    "set_session(tf.Session(config=config))\n",
    "\n",
    "# watch for any changes in the sample_models module, and reload it automatically\n",
    "%load_ext autoreload\n",
    "%autoreload 2\n",
    "# import NN architectures for speech recognition\n",
    "from sample_models import *\n",
    "# import function for training acoustic model\n",
    "from train_utils import train_model"
   ]
  },
  {
   "cell_type": "markdown",
   "metadata": {},
   "source": [
    "<a id='model0'></a>\n",
    "### Model 0: RNN\n",
    "\n",
    "Given their effectiveness in modeling sequential data, the first acoustic model you will use is an RNN.  As shown in the figure below, the RNN we supply to you will take the time sequence of audio features as input.\n",
    "\n",
    "<img src=\"images/simple_rnn.png\" width=\"50%\">\n",
    "\n",
    "At each time step, the speaker pronounces one of 28 possible characters, including each of the 26 letters in the English alphabet, along with a space character (\" \"), and an apostrophe (').\n",
    "\n",
    "The output of the RNN at each time step is a vector of probabilities with 29 entries, where the $i$-th entry encodes the probability that the $i$-th character is spoken in the time sequence.  (The extra 29th character is an empty \"character\" used to pad training examples within batches containing uneven lengths.)  If you would like to peek under the hood at how characters are mapped to indices in the probability vector, look at the `char_map.py` file in the repository.  The figure below shows an equivalent, rolled depiction of the RNN that shows the output layer in greater detail. \n",
    "\n",
    "<img src=\"images/simple_rnn_unrolled.png\" width=\"60%\">\n",
    "\n",
    "The model has already been specified for you in Keras.  To import it, you need only run the code cell below.  "
   ]
  },
  {
   "cell_type": "code",
   "execution_count": 2,
   "metadata": {},
   "outputs": [
    {
     "name": "stdout",
     "output_type": "stream",
     "text": [
      "_________________________________________________________________\n",
      "Layer (type)                 Output Shape              Param #   \n",
      "=================================================================\n",
      "the_input (InputLayer)       (None, None, 13)          0         \n",
      "_________________________________________________________________\n",
      "rnn (GRU)                    (None, None, 29)          3741      \n",
      "_________________________________________________________________\n",
      "softmax (Activation)         (None, None, 29)          0         \n",
      "=================================================================\n",
      "Total params: 3,741\n",
      "Trainable params: 3,741\n",
      "Non-trainable params: 0\n",
      "_________________________________________________________________\n",
      "None\n"
     ]
    }
   ],
   "source": [
    "model_0 = simple_rnn_model(input_dim=13) # change to 13 if you would like to use MFCC features"
   ]
  },
  {
   "cell_type": "markdown",
   "metadata": {},
   "source": [
    "As explored in the lesson, you will train the acoustic model with the [CTC loss](http://www.cs.toronto.edu/~graves/icml_2006.pdf) criterion.  Custom loss functions take a bit of hacking in Keras, and so we have implemented the CTC loss function for you, so that you can focus on trying out as many deep learning architectures as possible :).  If you'd like to peek at the implementation details, look at the `add_ctc_loss` function within the `train_utils.py` file in the repository.\n",
    "\n",
    "To train your architecture, you will use the `train_model` function within the `train_utils` module; it has already been imported in one of the above code cells.  The `train_model` function takes three **required** arguments:\n",
    "- `input_to_softmax` - a Keras model instance.\n",
    "- `pickle_path` - the name of the pickle file where the loss history will be saved.\n",
    "- `save_model_path` - the name of the HDF5 file where the model will be saved.\n",
    "\n",
    "If we have already supplied values for `input_to_softmax`, `pickle_path`, and `save_model_path`, please **DO NOT** modify these values. \n",
    "\n",
    "There are several **optional** arguments that allow you to have more control over the training process.  You are welcome to, but not required to, supply your own values for these arguments.\n",
    "- `minibatch_size` - the size of the minibatches that are generated while training the model (default: `20`).\n",
    "- `spectrogram` - Boolean value dictating whether spectrogram (`True`) or MFCC (`False`) features are used for training (default: `True`).\n",
    "- `mfcc_dim` - the size of the feature dimension to use when generating MFCC features (default: `13`).\n",
    "- `optimizer` - the Keras optimizer used to train the model (default: `SGD(lr=0.02, decay=1e-6, momentum=0.9, nesterov=True, clipnorm=5)`).  \n",
    "- `epochs` - the number of epochs to use to train the model (default: `20`).  If you choose to modify this parameter, make sure that it is *at least* 20.\n",
    "- `verbose` - controls the verbosity of the training output in the `model.fit_generator` method (default: `1`).\n",
    "- `sort_by_duration` - Boolean value dictating whether the training and validation sets are sorted by (increasing) duration before the start of the first epoch (default: `False`).\n",
    "\n",
    "The `train_model` function defaults to using spectrogram features; if you choose to use these features, note that the acoustic model in `simple_rnn_model` should have `input_dim=161`.  Otherwise, if you choose to use MFCC features, the acoustic model should have `input_dim=13`.\n",
    "\n",
    "We have chosen to use `GRU` units in the supplied RNN.  If you would like to experiment with `LSTM` or `SimpleRNN` cells, feel free to do so here.  If you change the `GRU` units to `SimpleRNN` cells in `simple_rnn_model`, you may notice that the loss quickly becomes undefined (`nan`) - you are strongly encouraged to check this for yourself!  This is due to the [exploding gradients problem](http://www.wildml.com/2015/10/recurrent-neural-networks-tutorial-part-3-backpropagation-through-time-and-vanishing-gradients/).  We have already implemented [gradient clipping](https://arxiv.org/pdf/1211.5063.pdf) in your optimizer to help you avoid this issue.\n",
    "\n",
    "__IMPORTANT NOTE:__ If you notice that your gradient has exploded in any of the models below, feel free to explore more with gradient clipping (the `clipnorm` argument in your optimizer) or swap out any `SimpleRNN` cells for `LSTM` or `GRU` cells.  You can also try restarting the kernel to restart the training process."
   ]
  },
  {
   "cell_type": "code",
   "execution_count": null,
   "metadata": {},
   "outputs": [
    {
     "name": "stdout",
     "output_type": "stream",
     "text": [
      "Epoch 1/20\n",
      "106/106 [==============================] - 265s - loss: 1286.5552 - val_loss: 1030.8432\n",
      "Epoch 2/20\n",
      "106/106 [==============================] - 243s - loss: 863.1430 - val_loss: 775.2508\n",
      "Epoch 3/20\n",
      "106/106 [==============================] - 244s - loss: 796.8674 - val_loss: 761.9986\n",
      "Epoch 4/20\n",
      "106/106 [==============================] - 247s - loss: 769.2974 - val_loss: 738.2856\n",
      "Epoch 5/20\n",
      "106/106 [==============================] - 246s - loss: 757.0986 - val_loss: 730.8434\n",
      "Epoch 6/20\n",
      "106/106 [==============================] - 246s - loss: 756.6104 - val_loss: 727.5395\n",
      "Epoch 7/20\n",
      "106/106 [==============================] - 246s - loss: 755.0915 - val_loss: 723.8911\n",
      "Epoch 10/20\n",
      "106/106 [==============================] - 248s - loss: 754.9712 - val_loss: 735.0498\n",
      "Epoch 11/20\n",
      "106/106 [==============================] - 247s - loss: 754.2702 - val_loss: 728.9630\n",
      "Epoch 12/20\n",
      "106/106 [==============================] - 248s - loss: 753.1338 - val_loss: 728.1276\n",
      "Epoch 13/20\n",
      "106/106 [==============================] - 248s - loss: 752.7678 - val_loss: 730.1758\n",
      "Epoch 14/20\n",
      "106/106 [==============================] - 247s - loss: 753.8126 - val_loss: 729.4462\n",
      "Epoch 15/20\n",
      "106/106 [==============================] - 247s - loss: 753.6882 - val_loss: 723.0630\n",
      "Epoch 16/20\n",
      "106/106 [==============================] - 247s - loss: 752.8632 - val_loss: 726.6725\n",
      "Epoch 17/20\n",
      "106/106 [==============================] - 249s - loss: 753.4840 - val_loss: 730.3971\n",
      "Epoch 18/20\n",
      "106/106 [==============================] - 246s - loss: 754.5280 - val_loss: 724.3133\n",
      "Epoch 19/20\n",
      "106/106 [==============================] - 246s - loss: 753.9703 - val_loss: 726.7793\n",
      "Epoch 20/20\n",
      "106/106 [==============================] - 249s - loss: 753.6941 - val_loss: 729.8293\n"
     ]
    }
   ],
   "source": [
    "train_model(input_to_softmax=model_0, \n",
    "            pickle_path='model_0.pickle', \n",
    "            save_model_path='model_0.h5',\n",
    "            spectrogram=False,\n",
    "            optimizer='adam') # change to False if you would like to use MFCC features"
   ]
  },
  {
   "cell_type": "markdown",
   "metadata": {},
   "source": [
    "<a id='model1'></a>\n",
    "### (IMPLEMENTATION) Model 1: RNN + TimeDistributed Dense\n",
    "\n",
    "Read about the [TimeDistributed](https://keras.io/layers/wrappers/) wrapper and the [BatchNormalization](https://keras.io/layers/normalization/) layer in the Keras documentation.  For your next architecture, you will add [batch normalization](https://arxiv.org/pdf/1510.01378.pdf) to the recurrent layer to reduce training times.  The `TimeDistributed` layer will be used to find more complex patterns in the dataset.  The unrolled snapshot of the architecture is depicted below.\n",
    "\n",
    "<img src=\"images/rnn_model.png\" width=\"60%\">\n",
    "\n",
    "The next figure shows an equivalent, rolled depiction of the RNN that shows the (`TimeDistrbuted`) dense and output layers in greater detail.  \n",
    "\n",
    "<img src=\"images/rnn_model_unrolled.png\" width=\"60%\">\n",
    "\n",
    "Use your research to complete the `rnn_model` function within the `sample_models.py` file.  The function should specify an architecture that satisfies the following requirements:\n",
    "- The first layer of the neural network should be an RNN (`SimpleRNN`, `LSTM`, or `GRU`) that takes the time sequence of audio features as input.  We have added `GRU` units for you, but feel free to change `GRU` to `SimpleRNN` or `LSTM`, if you like!\n",
    "- Whereas the architecture in `simple_rnn_model` treated the RNN output as the final layer of the model, you will use the output of your RNN as a hidden layer.  Use `TimeDistributed` to apply a `Dense` layer to each of the time steps in the RNN output.  Ensure that each `Dense` layer has `output_dim` units.\n",
    "\n",
    "Use the code cell below to load your model into the `model_1` variable.  Use a value for `input_dim` that matches your chosen audio features, and feel free to change the values for `units` and `activation` to tweak the behavior of your recurrent layer."
   ]
  },
  {
   "cell_type": "code",
   "execution_count": 10,
   "metadata": {
    "scrolled": true
   },
   "outputs": [
    {
     "name": "stdout",
     "output_type": "stream",
     "text": [
      "_________________________________________________________________\n",
      "Layer (type)                 Output Shape              Param #   \n",
      "=================================================================\n",
      "the_input (InputLayer)       (None, None, 161)         0         \n",
      "_________________________________________________________________\n",
      "rnn (GRU)                    (None, None, 200)         217200    \n",
      "_________________________________________________________________\n",
      "batch_normalization_1 (Batch (None, None, 200)         800       \n",
      "_________________________________________________________________\n",
      "time_distributed_1 (TimeDist (None, None, 29)          5829      \n",
      "_________________________________________________________________\n",
      "softmax (Activation)         (None, None, 29)          0         \n",
      "=================================================================\n",
      "Total params: 223,829\n",
      "Trainable params: 223,429\n",
      "Non-trainable params: 400\n",
      "_________________________________________________________________\n",
      "None\n"
     ]
    }
   ],
   "source": [
    "model_1 = rnn_model(input_dim=161, # change to 13 if you would like to use MFCC features\n",
    "                    units=200,\n",
    "                    activation='relu')"
   ]
  },
  {
   "cell_type": "markdown",
   "metadata": {},
   "source": [
    "Please execute the code cell below to train the neural network you specified in `input_to_softmax`.  After the model has finished training, the model is [saved](https://keras.io/getting-started/faq/#how-can-i-save-a-keras-model) in the HDF5 file `model_1.h5`.  The loss history is [saved](https://wiki.python.org/moin/UsingPickle) in `model_1.pickle`.  You are welcome to tweak any of the optional parameters while calling the `train_model` function, but this is not required."
   ]
  },
  {
   "cell_type": "code",
   "execution_count": 11,
   "metadata": {},
   "outputs": [
    {
     "name": "stdout",
     "output_type": "stream",
     "text": [
      "Epoch 1/20\n",
      "106/106 [==============================] - 295s 3s/step - loss: 297.1671 - val_loss: 214.4508\n",
      "Epoch 2/20\n",
      "106/106 [==============================] - 289s 3s/step - loss: 207.5862 - val_loss: 202.9714\n",
      "Epoch 3/20\n",
      "106/106 [==============================] - 273s 3s/step - loss: 185.3107 - val_loss: 180.2566\n",
      "Epoch 4/20\n",
      "106/106 [==============================] - 261s 2s/step - loss: 167.5040 - val_loss: 160.1623\n",
      "Epoch 5/20\n",
      "106/106 [==============================] - 258s 2s/step - loss: 157.1951 - val_loss: 156.0914\n",
      "Epoch 6/20\n",
      "106/106 [==============================] - 258s 2s/step - loss: 150.1633 - val_loss: 150.3899\n",
      "Epoch 7/20\n",
      "106/106 [==============================] - 251s 2s/step - loss: 144.6468 - val_loss: 145.3603\n",
      "Epoch 8/20\n",
      "106/106 [==============================] - 249s 2s/step - loss: 141.7504 - val_loss: 147.9575\n",
      "Epoch 9/20\n",
      "106/106 [==============================] - 249s 2s/step - loss: 138.7065 - val_loss: 144.7078\n",
      "Epoch 10/20\n",
      "106/106 [==============================] - 249s 2s/step - loss: 134.8867 - val_loss: 144.2659\n",
      "Epoch 11/20\n",
      "106/106 [==============================] - 248s 2s/step - loss: 131.5147 - val_loss: 137.9365\n",
      "Epoch 12/20\n",
      "106/106 [==============================] - 249s 2s/step - loss: 128.7090 - val_loss: 141.4055\n",
      "Epoch 13/20\n",
      "106/106 [==============================] - 249s 2s/step - loss: 127.4386 - val_loss: 135.0219\n",
      "Epoch 14/20\n",
      "106/106 [==============================] - 249s 2s/step - loss: 125.3774 - val_loss: 137.4911\n",
      "Epoch 15/20\n",
      "106/106 [==============================] - 249s 2s/step - loss: 123.9809 - val_loss: 137.2276\n",
      "Epoch 16/20\n",
      "106/106 [==============================] - 248s 2s/step - loss: 122.8455 - val_loss: 134.6760\n",
      "Epoch 17/20\n",
      "106/106 [==============================] - 249s 2s/step - loss: 120.1529 - val_loss: 134.7957\n",
      "Epoch 18/20\n",
      "106/106 [==============================] - 249s 2s/step - loss: 120.2206 - val_loss: 134.9791\n",
      "Epoch 19/20\n",
      "106/106 [==============================] - 249s 2s/step - loss: 118.7640 - val_loss: 136.3128\n",
      "Epoch 20/20\n",
      "106/106 [==============================] - 249s 2s/step - loss: 116.9449 - val_loss: 134.2662\n"
     ]
    }
   ],
   "source": [
    "train_model(input_to_softmax=model_1, \n",
    "            pickle_path='model_1.pickle', \n",
    "            save_model_path='model_1.h5',\n",
    "            spectrogram=True) # change to False if you would like to use MFCC features"
   ]
  },
  {
   "cell_type": "markdown",
   "metadata": {},
   "source": [
    "<a id='model2'></a>\n",
    "### (IMPLEMENTATION) Model 2: CNN + RNN + TimeDistributed Dense\n",
    "\n",
    "The architecture in `cnn_rnn_model` adds an additional level of complexity, by introducing a [1D convolution layer](https://keras.io/layers/convolutional/#conv1d).  \n",
    "\n",
    "<img src=\"images/cnn_rnn_model.png\" width=\"100%\">\n",
    "\n",
    "This layer incorporates many arguments that can be (optionally) tuned when calling the `cnn_rnn_model` module.  We provide sample starting parameters, which you might find useful if you choose to use spectrogram audio features.  \n",
    "\n",
    "If you instead want to use MFCC features, these arguments will have to be tuned.  Note that the current architecture only supports values of `'same'` or `'valid'` for the `conv_border_mode` argument.\n",
    "\n",
    "When tuning the parameters, be careful not to choose settings that make the convolutional layer overly small.  If the temporal length of the CNN layer is shorter than the length of the transcribed text label, your code will throw an error.\n",
    "\n",
    "Before running the code cell below, you must modify the `cnn_rnn_model` function in `sample_models.py`.  Please add batch normalization to the recurrent layer, and provide the same `TimeDistributed` layer as before."
   ]
  },
  {
   "cell_type": "code",
   "execution_count": 12,
   "metadata": {},
   "outputs": [
    {
     "name": "stdout",
     "output_type": "stream",
     "text": [
      "WARNING:tensorflow:From /home/andrzej/.conda/envs/aind-cv-vui/lib/python3.5/site-packages/tensorflow/python/util/deprecation.py:497: calling conv1d (from tensorflow.python.ops.nn_ops) with data_format=NHWC is deprecated and will be removed in a future version.\n",
      "Instructions for updating:\n",
      "`NHWC` for data_format is deprecated, use `NWC` instead\n",
      "_________________________________________________________________\n",
      "Layer (type)                 Output Shape              Param #   \n",
      "=================================================================\n",
      "the_input (InputLayer)       (None, None, 161)         0         \n",
      "_________________________________________________________________\n",
      "conv1d (Conv1D)              (None, None, 200)         354400    \n",
      "_________________________________________________________________\n",
      "bn_conv_1d (BatchNormalizati (None, None, 200)         800       \n",
      "_________________________________________________________________\n",
      "rnn (SimpleRNN)              (None, None, 200)         80200     \n",
      "_________________________________________________________________\n",
      "batch_normalization_2 (Batch (None, None, 200)         800       \n",
      "_________________________________________________________________\n",
      "time_distributed_2 (TimeDist (None, None, 29)          5829      \n",
      "_________________________________________________________________\n",
      "softmax (Activation)         (None, None, 29)          0         \n",
      "=================================================================\n",
      "Total params: 442,029\n",
      "Trainable params: 441,229\n",
      "Non-trainable params: 800\n",
      "_________________________________________________________________\n",
      "None\n"
     ]
    },
    {
     "name": "stderr",
     "output_type": "stream",
     "text": [
      "/home/andrzej/.conda/envs/aind-cv-vui/lib/python3.5/site-packages/keras/layers/recurrent.py:1028: UserWarning: The `implementation` argument in `SimpleRNN` has been deprecated. Please remove it from your layer call.\n",
      "  warnings.warn('The `implementation` argument '\n"
     ]
    }
   ],
   "source": [
    "model_2 = cnn_rnn_model(input_dim=161, # change to 13 if you would like to use MFCC features\n",
    "                        filters=200,\n",
    "                        kernel_size=11, \n",
    "                        conv_stride=2,\n",
    "                        conv_border_mode='valid',\n",
    "                        units=200)"
   ]
  },
  {
   "cell_type": "markdown",
   "metadata": {},
   "source": [
    "Please execute the code cell below to train the neural network you specified in `input_to_softmax`.  After the model has finished training, the model is [saved](https://keras.io/getting-started/faq/#how-can-i-save-a-keras-model) in the HDF5 file `model_2.h5`.  The loss history is [saved](https://wiki.python.org/moin/UsingPickle) in `model_2.pickle`.  You are welcome to tweak any of the optional parameters while calling the `train_model` function, but this is not required."
   ]
  },
  {
   "cell_type": "code",
   "execution_count": 13,
   "metadata": {},
   "outputs": [
    {
     "name": "stdout",
     "output_type": "stream",
     "text": [
      "Epoch 1/20\n",
      "106/106 [==============================] - 93s 880ms/step - loss: 237.2023 - val_loss: 216.6932\n",
      "Epoch 2/20\n",
      "106/106 [==============================] - 94s 889ms/step - loss: 192.1988 - val_loss: 173.4974\n",
      "Epoch 3/20\n",
      "106/106 [==============================] - 95s 895ms/step - loss: 158.4810 - val_loss: 154.1039\n",
      "Epoch 4/20\n",
      "106/106 [==============================] - 95s 893ms/step - loss: 143.4823 - val_loss: 146.6441\n",
      "Epoch 5/20\n",
      "106/106 [==============================] - 95s 895ms/step - loss: 134.0711 - val_loss: 138.8741\n",
      "Epoch 6/20\n",
      "106/106 [==============================] - 95s 893ms/step - loss: 127.3989 - val_loss: 132.9053\n",
      "Epoch 7/20\n",
      "106/106 [==============================] - 94s 891ms/step - loss: 121.8686 - val_loss: 134.0118\n",
      "Epoch 8/20\n",
      "106/106 [==============================] - 95s 896ms/step - loss: 117.0871 - val_loss: 129.8389\n",
      "Epoch 9/20\n",
      "106/106 [==============================] - 95s 899ms/step - loss: 113.0816 - val_loss: 132.8408\n",
      "Epoch 10/20\n",
      "106/106 [==============================] - 95s 895ms/step - loss: 109.7012 - val_loss: 130.9653\n",
      "Epoch 11/20\n",
      "106/106 [==============================] - 94s 890ms/step - loss: 106.7340 - val_loss: 130.0173\n",
      "Epoch 12/20\n",
      "106/106 [==============================] - 94s 887ms/step - loss: 103.9246 - val_loss: 130.0370\n",
      "Epoch 13/20\n",
      "106/106 [==============================] - 95s 893ms/step - loss: 101.1570 - val_loss: 129.1158\n",
      "Epoch 14/20\n",
      "106/106 [==============================] - 94s 889ms/step - loss: 98.5412 - val_loss: 129.5145\n",
      "Epoch 15/20\n",
      "106/106 [==============================] - 94s 888ms/step - loss: 97.8337 - val_loss: 131.5401\n",
      "Epoch 16/20\n",
      "106/106 [==============================] - 95s 893ms/step - loss: 94.8424 - val_loss: 131.2889\n",
      "Epoch 17/20\n",
      "106/106 [==============================] - 95s 893ms/step - loss: 92.0848 - val_loss: 128.8970\n",
      "Epoch 18/20\n",
      "106/106 [==============================] - 95s 897ms/step - loss: 89.8589 - val_loss: 133.2227\n",
      "Epoch 19/20\n",
      "106/106 [==============================] - 91s 856ms/step - loss: 87.4927 - val_loss: 132.4135\n",
      "Epoch 20/20\n",
      "106/106 [==============================] - 91s 859ms/step - loss: 85.6550 - val_loss: 134.8157\n"
     ]
    }
   ],
   "source": [
    "train_model(input_to_softmax=model_2, \n",
    "            pickle_path='model_2.pickle', \n",
    "            save_model_path='model_2.h5', \n",
    "            spectrogram=True) # change to False if you would like to use MFCC features"
   ]
  },
  {
   "cell_type": "markdown",
   "metadata": {},
   "source": [
    "<a id='model3'></a>\n",
    "### (IMPLEMENTATION) Model 3: Deeper RNN + TimeDistributed Dense\n",
    "\n",
    "Review the code in `rnn_model`, which makes use of a single recurrent layer.  Now, specify an architecture in `deep_rnn_model` that utilizes a variable number `recur_layers` of recurrent layers.  The figure below shows the architecture that should be returned if `recur_layers=2`.  In the figure, the output sequence of the first recurrent layer is used as input for the next recurrent layer.\n",
    "\n",
    "<img src=\"images/deep_rnn_model.png\" width=\"80%\">\n",
    "\n",
    "Feel free to change the supplied values of `units` to whatever you think performs best.  You can change the value of `recur_layers`, as long as your final value is greater than 1. (As a quick check that you have implemented the additional functionality in `deep_rnn_model` correctly, make sure that the architecture that you specify here is identical to `rnn_model` if `recur_layers=1`.)"
   ]
  },
  {
   "cell_type": "code",
   "execution_count": 41,
   "metadata": {},
   "outputs": [
    {
     "name": "stdout",
     "output_type": "stream",
     "text": [
      "2\n",
      "Tensor(\"batch_normalization_36/cond/Merge:0\", shape=(?, ?, 200), dtype=float32)\n",
      "_________________________________________________________________\n",
      "Layer (type)                 Output Shape              Param #   \n",
      "=================================================================\n",
      "the_input (InputLayer)       (None, None, 161)         0         \n",
      "_________________________________________________________________\n",
      "rnn (GRU)                    (None, None, 200)         217200    \n",
      "_________________________________________________________________\n",
      "batch_normalization_35 (Batc (None, None, 200)         800       \n",
      "_________________________________________________________________\n",
      "gru_2 (GRU)                  (None, None, 200)         240600    \n",
      "_________________________________________________________________\n",
      "batch_normalization_36 (Batc (None, None, 200)         800       \n",
      "_________________________________________________________________\n",
      "time_distributed_16 (TimeDis (None, None, 29)          5829      \n",
      "_________________________________________________________________\n",
      "softmax (Activation)         (None, None, 29)          0         \n",
      "=================================================================\n",
      "Total params: 465,229\n",
      "Trainable params: 464,429\n",
      "Non-trainable params: 800\n",
      "_________________________________________________________________\n",
      "None\n"
     ]
    }
   ],
   "source": [
    "model_3 = deep_rnn_model(input_dim=161, # change to 13 if you would like to use MFCC features\n",
    "                         units=200,\n",
    "                         recur_layers=2) "
   ]
  },
  {
   "cell_type": "markdown",
   "metadata": {},
   "source": [
    "Please execute the code cell below to train the neural network you specified in `input_to_softmax`.  After the model has finished training, the model is [saved](https://keras.io/getting-started/faq/#how-can-i-save-a-keras-model) in the HDF5 file `model_3.h5`.  The loss history is [saved](https://wiki.python.org/moin/UsingPickle) in `model_3.pickle`.  You are welcome to tweak any of the optional parameters while calling the `train_model` function, but this is not required."
   ]
  },
  {
   "cell_type": "code",
   "execution_count": 49,
   "metadata": {},
   "outputs": [
    {
     "name": "stdout",
     "output_type": "stream",
     "text": [
      "Epoch 1/20\n",
      "106/106 [==============================] - 455s 4s/step - loss: 110.9732 - val_loss: 141.7276\n",
      "Epoch 2/20\n",
      "106/106 [==============================] - 464s 4s/step - loss: 105.9091 - val_loss: 124.9360\n",
      "Epoch 3/20\n",
      "106/106 [==============================] - 463s 4s/step - loss: 102.0551 - val_loss: 123.0280\n",
      "Epoch 4/20\n",
      "106/106 [==============================] - 463s 4s/step - loss: 99.6367 - val_loss: 124.8798\n",
      "Epoch 5/20\n",
      "106/106 [==============================] - 460s 4s/step - loss: 97.7512 - val_loss: 120.5234\n",
      "Epoch 6/20\n",
      "106/106 [==============================] - 462s 4s/step - loss: 94.9915 - val_loss: 121.3755\n",
      "Epoch 7/20\n",
      "106/106 [==============================] - 461s 4s/step - loss: 93.3472 - val_loss: 120.7730\n",
      "Epoch 8/20\n",
      "106/106 [==============================] - 459s 4s/step - loss: 91.1764 - val_loss: 119.2353\n",
      "Epoch 9/20\n",
      "106/106 [==============================] - 462s 4s/step - loss: 89.8431 - val_loss: 119.2985\n",
      "Epoch 10/20\n",
      "106/106 [==============================] - 461s 4s/step - loss: 87.9240 - val_loss: 119.8508\n",
      "Epoch 11/20\n",
      "106/106 [==============================] - 459s 4s/step - loss: 86.6477 - val_loss: 120.6854\n",
      "Epoch 12/20\n",
      "106/106 [==============================] - 458s 4s/step - loss: 84.9572 - val_loss: 119.9970\n",
      "Epoch 13/20\n",
      "106/106 [==============================] - 461s 4s/step - loss: 83.6977 - val_loss: 120.7819\n",
      "Epoch 14/20\n",
      "106/106 [==============================] - 466s 4s/step - loss: 82.1317 - val_loss: 121.4071\n",
      "Epoch 15/20\n",
      "106/106 [==============================] - 464s 4s/step - loss: 81.7591 - val_loss: 122.6285\n",
      "Epoch 16/20\n",
      "106/106 [==============================] - 470s 4s/step - loss: 80.8978 - val_loss: 120.3580\n",
      "Epoch 17/20\n",
      "106/106 [==============================] - 461s 4s/step - loss: 78.9305 - val_loss: 121.1584\n",
      "Epoch 18/20\n",
      "106/106 [==============================] - 465s 4s/step - loss: 77.6494 - val_loss: 123.2763\n",
      "Epoch 19/20\n",
      "106/106 [==============================] - 461s 4s/step - loss: 77.2491 - val_loss: 119.5356\n",
      "Epoch 20/20\n",
      "106/106 [==============================] - 460s 4s/step - loss: 75.5297 - val_loss: 121.1408\n"
     ]
    }
   ],
   "source": [
    "train_model(input_to_softmax=model_3, \n",
    "            pickle_path='model_3.pickle', \n",
    "            save_model_path='model_3.h5', \n",
    "            spectrogram=True) # change to False if you would like to use MFCC features"
   ]
  },
  {
   "cell_type": "markdown",
   "metadata": {},
   "source": [
    "<a id='model4'></a>\n",
    "### (IMPLEMENTATION) Model 4: Bidirectional RNN + TimeDistributed Dense\n",
    "\n",
    "Read about the [Bidirectional](https://keras.io/layers/wrappers/) wrapper in the Keras documentation.  For your next architecture, you will specify an architecture that uses a single bidirectional RNN layer, before a (`TimeDistributed`) dense layer.  The added value of a bidirectional RNN is described well in [this paper](http://www.cs.toronto.edu/~hinton/absps/DRNN_speech.pdf).\n",
    "> One shortcoming of conventional RNNs is that they are only able to make use of previous context. In speech recognition, where whole utterances are transcribed at once, there is no reason not to exploit future context as well.  Bidirectional RNNs (BRNNs) do this by processing the data in both directions with two separate hidden layers which are then fed forwards to the same output layer.\n",
    "\n",
    "<img src=\"images/bidirectional_rnn_model.png\" width=\"80%\">\n",
    "\n",
    "Before running the code cell below, you must complete the `bidirectional_rnn_model` function in `sample_models.py`.  Feel free to use `SimpleRNN`, `LSTM`, or `GRU` units.  When specifying the `Bidirectional` wrapper, use `merge_mode='concat'`."
   ]
  },
  {
   "cell_type": "code",
   "execution_count": 47,
   "metadata": {},
   "outputs": [
    {
     "name": "stdout",
     "output_type": "stream",
     "text": [
      "_________________________________________________________________\n",
      "Layer (type)                 Output Shape              Param #   \n",
      "=================================================================\n",
      "the_input (InputLayer)       (None, None, 161)         0         \n",
      "_________________________________________________________________\n",
      "bidirectional_3 (Bidirection (None, None, 400)         434400    \n",
      "_________________________________________________________________\n",
      "time_distributed_19 (TimeDis (None, None, 29)          11629     \n",
      "_________________________________________________________________\n",
      "softmax (Activation)         (None, None, 29)          0         \n",
      "=================================================================\n",
      "Total params: 446,029\n",
      "Trainable params: 446,029\n",
      "Non-trainable params: 0\n",
      "_________________________________________________________________\n",
      "None\n"
     ]
    }
   ],
   "source": [
    "model_4 = bidirectional_rnn_model(input_dim=161, # change to 13 if you would like to use MFCC features\n",
    "                                  units=200)"
   ]
  },
  {
   "cell_type": "markdown",
   "metadata": {},
   "source": [
    "Please execute the code cell below to train the neural network you specified in `input_to_softmax`.  After the model has finished training, the model is [saved](https://keras.io/getting-started/faq/#how-can-i-save-a-keras-model) in the HDF5 file `model_4.h5`.  The loss history is [saved](https://wiki.python.org/moin/UsingPickle) in `model_4.pickle`.  You are welcome to tweak any of the optional parameters while calling the `train_model` function, but this is not required."
   ]
  },
  {
   "cell_type": "code",
   "execution_count": 48,
   "metadata": {},
   "outputs": [
    {
     "name": "stdout",
     "output_type": "stream",
     "text": [
      "Epoch 1/20\n",
      "106/106 [==============================] - 302s 3s/step - loss: 274.0065 - val_loss: 220.5564\n",
      "Epoch 2/20\n",
      "106/106 [==============================] - 276s 3s/step - loss: 215.0255 - val_loss: 199.5410\n",
      "Epoch 3/20\n",
      "106/106 [==============================] - 266s 3s/step - loss: 200.7885 - val_loss: 189.3762\n",
      "Epoch 4/20\n",
      "106/106 [==============================] - 269s 3s/step - loss: 192.1533 - val_loss: 184.6046\n",
      "Epoch 5/20\n",
      "106/106 [==============================] - 276s 3s/step - loss: 183.3199 - val_loss: 177.4905\n",
      "Epoch 6/20\n",
      "106/106 [==============================] - 291s 3s/step - loss: 176.0736 - val_loss: 171.8844\n",
      "Epoch 7/20\n",
      "106/106 [==============================] - 276s 3s/step - loss: 168.0863 - val_loss: 164.3484\n",
      "Epoch 8/20\n",
      "106/106 [==============================] - 266s 3s/step - loss: 161.3479 - val_loss: 161.0513\n",
      "Epoch 9/20\n",
      "106/106 [==============================] - 287s 3s/step - loss: 155.0466 - val_loss: 157.7390\n",
      "Epoch 10/20\n",
      "106/106 [==============================] - 277s 3s/step - loss: 150.0548 - val_loss: 153.8127\n",
      "Epoch 11/20\n",
      "106/106 [==============================] - 270s 3s/step - loss: 145.0315 - val_loss: 152.6925\n",
      "Epoch 12/20\n",
      "106/106 [==============================] - 284s 3s/step - loss: 140.2712 - val_loss: 149.2001\n",
      "Epoch 13/20\n",
      "106/106 [==============================] - 247s 2s/step - loss: 135.9543 - val_loss: 146.7928\n",
      "Epoch 14/20\n",
      "106/106 [==============================] - 236s 2s/step - loss: 132.1354 - val_loss: 147.3356\n",
      "Epoch 15/20\n",
      "106/106 [==============================] - 242s 2s/step - loss: 128.9233 - val_loss: 141.6442\n",
      "Epoch 16/20\n",
      "106/106 [==============================] - 234s 2s/step - loss: 125.1138 - val_loss: 145.6067\n",
      "Epoch 17/20\n",
      "106/106 [==============================] - 234s 2s/step - loss: 121.9010 - val_loss: 140.3397\n",
      "Epoch 18/20\n",
      "106/106 [==============================] - 252s 2s/step - loss: 118.8702 - val_loss: 140.7180\n",
      "Epoch 19/20\n",
      "106/106 [==============================] - 260s 2s/step - loss: 116.0116 - val_loss: 141.7388\n",
      "Epoch 20/20\n",
      "106/106 [==============================] - 263s 2s/step - loss: 112.8740 - val_loss: 140.1261\n"
     ]
    }
   ],
   "source": [
    "train_model(input_to_softmax=model_4, \n",
    "            pickle_path='model_4.pickle', \n",
    "            save_model_path='model_4.h5', \n",
    "            spectrogram=True) # change to False if you would like to use MFCC features"
   ]
  },
  {
   "cell_type": "markdown",
   "metadata": {},
   "source": [
    "<a id='model5'></a>\n",
    "### (OPTIONAL IMPLEMENTATION) Models 5+\n",
    "\n",
    "If you would like to try out more architectures than the ones above, please use the code cell below.  Please continue to follow the same convention for saving the models; for the $i$-th sample model, please save the loss at **`model_i.pickle`** and saving the trained model at **`model_i.h5`**."
   ]
  },
  {
   "cell_type": "code",
   "execution_count": 68,
   "metadata": {},
   "outputs": [],
   "source": [
    "## (Optional) TODO: Try out some more models!\n",
    "### Feel free to use as many code cells as needed.\n",
    "\n",
    "from keras.layers import (BatchNormalization, Conv1D, Dense, Input, \n",
    "    TimeDistributed, Activation, Bidirectional, SimpleRNN, GRU, LSTM, Dropout)\n",
    "\n",
    "def deep_bidirectional_rnn_model(input_dim, units, recur_layers, output_dim=29):\n",
    "    \"\"\" Build a deep recurrent network for speech \n",
    "    \"\"\"\n",
    "    \n",
    "    # Main acoustic input\n",
    "    input_data = Input(name='the_input', shape=(None, input_dim))\n",
    "    \n",
    "    recurnn_layers=[]\n",
    "    batchnm_layers=[]\n",
    "    #dropout_layers=[]\n",
    "    dropout_prob = 0.1\n",
    "    \n",
    "    recurnn_layers.append(Bidirectional(GRU(units, activation='relu',\n",
    "                                            return_sequences=True, implementation=2, name='rnn', \n",
    "                                            dropout_U=dropout_prob), \n",
    "                                        merge_mode='concat')(input_data))\n",
    "    \n",
    "    batchnm_layers.append(BatchNormalization()(recurnn_layers[0]))\n",
    "    #dropout_layers.append(Dropout(keep_prob)(batchnm_layers[0]))\n",
    "    \n",
    "    for i in range(1,recur_layers):\n",
    "        \n",
    "        recurnn_layers.append(Bidirectional(GRU(units, activation='relu',\n",
    "                                                return_sequences=True, implementation=2,\n",
    "                                               dropout_U=dropout_prob), \n",
    "                                            merge_mode='concat')(batchnm_layers[i-1]))\n",
    "        \n",
    "        batchnm_layers.append(BatchNormalization()(recurnn_layers[i]))\n",
    "        #dropout_layers.append(Dropout(keep_prob)(batchnm_layers[i]))\n",
    "\n",
    "    \n",
    "    \n",
    "    # TODO: Add a TimeDistributed(Dense(output_dim)) layer\n",
    "    time_dense = TimeDistributed(Dense(output_dim))(batchnm_layers[recur_layers-1])\n",
    "    \n",
    "    # Add softmax activation layer\n",
    "    y_pred = Activation('softmax', name='softmax')(time_dense)\n",
    "    \n",
    "    # Specify the model\n",
    "    model = Model(inputs=input_data, outputs=y_pred)\n",
    "    model.output_length = lambda x: x\n",
    "    print(model.summary())\n",
    "    return model"
   ]
  },
  {
   "cell_type": "code",
   "execution_count": 67,
   "metadata": {},
   "outputs": [
    {
     "name": "stderr",
     "output_type": "stream",
     "text": [
      "/home/andrzej/.conda/envs/aind-cv-vui/lib/python3.5/site-packages/ipykernel/__main__.py:21: UserWarning: Update your `GRU` call to the Keras 2 API: `GRU(200, activation=\"relu\", recurrent_dropout=0.1, return_sequences=True, name=\"rnn\")`\n",
      "/home/andrzej/.conda/envs/aind-cv-vui/lib/python3.5/site-packages/ipykernel/__main__.py:31: UserWarning: Update your `GRU` call to the Keras 2 API: `GRU(200, activation=\"relu\", recurrent_dropout=0.1, return_sequences=True)`\n"
     ]
    },
    {
     "name": "stdout",
     "output_type": "stream",
     "text": [
      "_________________________________________________________________\n",
      "Layer (type)                 Output Shape              Param #   \n",
      "=================================================================\n",
      "the_input (InputLayer)       (None, None, 161)         0         \n",
      "_________________________________________________________________\n",
      "bidirectional_13 (Bidirectio (None, None, 400)         434400    \n",
      "_________________________________________________________________\n",
      "batch_normalization_48 (Batc (None, None, 400)         1600      \n",
      "_________________________________________________________________\n",
      "bidirectional_14 (Bidirectio (None, None, 400)         721200    \n",
      "_________________________________________________________________\n",
      "batch_normalization_49 (Batc (None, None, 400)         1600      \n",
      "_________________________________________________________________\n",
      "time_distributed_25 (TimeDis (None, None, 29)          11629     \n",
      "_________________________________________________________________\n",
      "softmax (Activation)         (None, None, 29)          0         \n",
      "=================================================================\n",
      "Total params: 1,170,429\n",
      "Trainable params: 1,168,829\n",
      "Non-trainable params: 1,600\n",
      "_________________________________________________________________\n",
      "None\n"
     ]
    }
   ],
   "source": [
    "model_5 = deep_bidirectional_rnn_model(input_dim=161, # change to 13 if you would like to use MFCC features\n",
    "                         units=200,\n",
    "                         recur_layers=2) "
   ]
  },
  {
   "cell_type": "code",
   "execution_count": 69,
   "metadata": {},
   "outputs": [
    {
     "name": "stdout",
     "output_type": "stream",
     "text": [
      "Epoch 1/20\n",
      "106/106 [==============================] - 657s 6s/step - loss: 271.1398 - val_loss: 223.9517\n",
      "Epoch 2/20\n",
      "106/106 [==============================] - 675s 6s/step - loss: 224.3565 - val_loss: 201.8755\n",
      "Epoch 3/20\n",
      "106/106 [==============================] - 661s 6s/step - loss: 199.5581 - val_loss: 179.6474\n",
      "Epoch 4/20\n",
      "106/106 [==============================] - 659s 6s/step - loss: 167.7102 - val_loss: 152.9572\n",
      "Epoch 5/20\n",
      "106/106 [==============================] - 641s 6s/step - loss: 148.7438 - val_loss: 142.6506\n",
      "Epoch 6/20\n",
      "106/106 [==============================] - 628s 6s/step - loss: 137.0460 - val_loss: 133.1503\n",
      "Epoch 7/20\n",
      "106/106 [==============================] - 631s 6s/step - loss: 127.7529 - val_loss: 131.4369\n",
      "Epoch 8/20\n",
      "106/106 [==============================] - 674s 6s/step - loss: 120.5022 - val_loss: 125.3741\n",
      "Epoch 9/20\n",
      "106/106 [==============================] - 651s 6s/step - loss: 114.2250 - val_loss: 124.0679\n",
      "Epoch 10/20\n",
      "106/106 [==============================] - 653s 6s/step - loss: 108.7662 - val_loss: 120.8810\n",
      "Epoch 11/20\n",
      "106/106 [==============================] - 675s 6s/step - loss: 104.6378 - val_loss: 119.4657\n",
      "Epoch 12/20\n",
      "106/106 [==============================] - 673s 6s/step - loss: 99.9269 - val_loss: 119.7006\n",
      "Epoch 13/20\n",
      "106/106 [==============================] - 690s 7s/step - loss: 95.6683 - val_loss: 116.9622\n",
      "Epoch 14/20\n",
      "106/106 [==============================] - 664s 6s/step - loss: 91.9949 - val_loss: 118.1659\n",
      "Epoch 15/20\n",
      "106/106 [==============================] - 662s 6s/step - loss: 88.3533 - val_loss: 117.3911\n",
      "Epoch 16/20\n",
      "106/106 [==============================] - 662s 6s/step - loss: 85.5751 - val_loss: 112.1219\n",
      "Epoch 17/20\n",
      "106/106 [==============================] - 662s 6s/step - loss: 81.8593 - val_loss: 115.2683\n",
      "Epoch 18/20\n",
      "106/106 [==============================] - 660s 6s/step - loss: 78.8592 - val_loss: 115.7730\n",
      "Epoch 19/20\n",
      "106/106 [==============================] - 666s 6s/step - loss: 75.7418 - val_loss: 115.6551\n",
      "Epoch 20/20\n",
      "106/106 [==============================] - 705s 7s/step - loss: 73.6418 - val_loss: 116.0875\n"
     ]
    }
   ],
   "source": [
    "train_model(input_to_softmax=model_5, \n",
    "            pickle_path='model_5.pickle', \n",
    "            save_model_path='model_5.h5', \n",
    "            spectrogram=True) # change to False if you would like to use MFCC features"
   ]
  },
  {
   "cell_type": "markdown",
   "metadata": {},
   "source": [
    "## Next try - similar to Mozilla deepspeech\n",
    "\n",
    "https://arxiv.org/pdf/1412.5567.pdf\n",
    "\n",
    "They use a 5-layer network: 3 non-recurrent input layers, one bi-directional recurrent layer, time-independent dense layer.\n",
    "\n",
    "SimpleRNN didn't work because of exploding gradients (``nan`` in ``val_loss``), so I switched to GRU.\n",
    "\n",
    "```\n",
    "Epoch 1/20\n",
    "106/106 [==============================] - 160s 2s/step - loss: 317.8242 - val_loss: 333.6111\n",
    "Epoch 2/20\n",
    "106/106 [==============================] - 160s 2s/step - loss: 240.1940 - val_loss: 352.8092\n",
    "Epoch 3/20\n",
    "106/106 [==============================] - 159s 2s/step - loss: 230.2839 - val_loss: 298.0587\n",
    "Epoch 4/20\n",
    "106/106 [==============================] - 158s 1s/step - loss: 224.7023 - val_loss: 286.7940\n",
    "Epoch 5/20\n",
    "106/106 [==============================] - 158s 1s/step - loss: 220.5014 - val_loss: 276.5635\n",
    "Epoch 6/20\n",
    "106/106 [==============================] - 158s 1s/step - loss: 218.0747 - val_loss: 274.8617\n",
    "Epoch 7/20\n",
    "106/106 [==============================] - 159s 1s/step - loss: 216.5969 - val_loss: 272.5335\n",
    "Epoch 8/20\n",
    "106/106 [==============================] - 158s 1s/step - loss: 213.7117 - val_loss: 254.0279\n",
    "Epoch 9/20\n",
    "106/106 [==============================] - 158s 1s/step - loss: 210.4404 - val_loss: 229.5966\n",
    "Epoch 10/20\n",
    "106/106 [==============================] - 152s 1s/step - loss: 203.5027 - val_loss: nan\n",
    "Epoch 11/20\n",
    "106/106 [==============================] - 153s 1s/step - loss: 190.2610 - val_loss: nan\n",
    "```\n",
    "\n"
   ]
  },
  {
   "cell_type": "code",
   "execution_count": 50,
   "metadata": {},
   "outputs": [],
   "source": [
    "## (Optional) TODO: Try out some more models!\n",
    "### Feel free to use as many code cells as needed.\n",
    "\n",
    "from keras.layers import (BatchNormalization, Conv1D, Dense, Input, \n",
    "    TimeDistributed, Activation, Bidirectional, SimpleRNN, GRU, LSTM, Dropout)\n",
    "\n",
    "def deep_bidirectional_simplernn_model(input_dim, units, output_dim=29):\n",
    "    \"\"\" Build a deep recurrent network for speech \n",
    "    \"\"\"\n",
    "    \n",
    "    # Main acoustic input\n",
    "    input_data = Input(name='the_input', shape=(None, input_dim))\n",
    "    \n",
    "    # TODO: Add a TimeDistributed(Dense(output_dim)) layer\n",
    "    time_dense1 = TimeDistributed(Dense(128))(input_data)\n",
    "    time_dense2 = TimeDistributed(Dense(64))(time_dense1)\n",
    "    time_dense3 = TimeDistributed(Dense(64))(time_dense2)\n",
    "    \n",
    "    recurnn_layers=[]\n",
    "    batchnm_layers=[]\n",
    "    #dropout_layers=[]\n",
    "    dropout_prob = 0.1\n",
    "    \n",
    "    recurnn_layers.append(Bidirectional(SimpleRNN(units, activation='relu',\n",
    "                                            return_sequences=True, implementation=2, name='rnn', \n",
    "                                            dropout_U=dropout_prob), \n",
    "                                        merge_mode='concat')(time_dense3))\n",
    "    \n",
    "    batchnm_layers.append(BatchNormalization()(recurnn_layers[0]))\n",
    "    \n",
    "    \n",
    "    # TODO: Add a TimeDistributed(Dense(output_dim)) layer\n",
    "    dense = Dense(output_dim)(batchnm_layers[0])\n",
    "    \n",
    "    # Add softmax activation layer\n",
    "    y_pred = Activation('softmax', name='softmax')(dense)\n",
    "    \n",
    "    # Specify the model\n",
    "    model = Model(inputs=input_data, outputs=y_pred)\n",
    "    model.output_length = lambda x: x\n",
    "    print(model.summary())\n",
    "    return model"
   ]
  },
  {
   "cell_type": "code",
   "execution_count": 51,
   "metadata": {},
   "outputs": [
    {
     "name": "stderr",
     "output_type": "stream",
     "text": [
      "/home/andrzej/.conda/envs/aind-vui/lib/python3.5/site-packages/ipykernel_launcher.py:26: UserWarning: Update your `SimpleRNN` call to the Keras 2 API: `SimpleRNN(200, recurrent_dropout=0.1, activation=\"relu\", return_sequences=True, name=\"rnn\", implementation=2)`\n",
      "/home/andrzej/.conda/envs/aind-vui/lib/python3.5/site-packages/keras/layers/recurrent.py:1028: UserWarning: The `implementation` argument in `SimpleRNN` has been deprecated. Please remove it from your layer call.\n",
      "  warnings.warn('The `implementation` argument '\n"
     ]
    },
    {
     "name": "stdout",
     "output_type": "stream",
     "text": [
      "_________________________________________________________________\n",
      "Layer (type)                 Output Shape              Param #   \n",
      "=================================================================\n",
      "the_input (InputLayer)       (None, None, 13)          0         \n",
      "_________________________________________________________________\n",
      "time_distributed_19 (TimeDis (None, None, 128)         1792      \n",
      "_________________________________________________________________\n",
      "time_distributed_20 (TimeDis (None, None, 64)          8256      \n",
      "_________________________________________________________________\n",
      "time_distributed_21 (TimeDis (None, None, 64)          4160      \n",
      "_________________________________________________________________\n",
      "bidirectional_21 (Bidirectio (None, None, 400)         106000    \n",
      "_________________________________________________________________\n",
      "batch_normalization_21 (Batc (None, None, 400)         1600      \n",
      "_________________________________________________________________\n",
      "dense_25 (Dense)             (None, None, 29)          11629     \n",
      "_________________________________________________________________\n",
      "softmax (Activation)         (None, None, 29)          0         \n",
      "=================================================================\n",
      "Total params: 133,437\n",
      "Trainable params: 132,637\n",
      "Non-trainable params: 800\n",
      "_________________________________________________________________\n",
      "None\n"
     ]
    }
   ],
   "source": [
    "model_6 = deep_bidirectional_simplernn_model(input_dim=13, # change to 13 if you would like to use MFCC features\n",
    "                         units=200) "
   ]
  },
  {
   "cell_type": "code",
   "execution_count": 52,
   "metadata": {},
   "outputs": [
    {
     "name": "stdout",
     "output_type": "stream",
     "text": [
      "Epoch 1/20\n",
      "106/106 [==============================] - 161s 2s/step - loss: 302.8929 - val_loss: 249.4101\n",
      "Epoch 2/20\n",
      "106/106 [==============================] - 158s 1s/step - loss: 237.2261 - val_loss: 219.7635\n",
      "Epoch 3/20\n",
      "106/106 [==============================] - 158s 1s/step - loss: 230.1052 - val_loss: 213.3136\n",
      "Epoch 4/20\n",
      "106/106 [==============================] - 158s 1s/step - loss: 225.8005 - val_loss: 211.4328\n",
      "Epoch 5/20\n",
      "106/106 [==============================] - 158s 1s/step - loss: 224.4497 - val_loss: 211.5225\n",
      "Epoch 6/20\n",
      "106/106 [==============================] - 159s 1s/step - loss: 217.5182 - val_loss: 209.2871\n",
      "Epoch 7/20\n",
      "106/106 [==============================] - 158s 1s/step - loss: 214.6796 - val_loss: 207.3398\n",
      "Epoch 8/20\n",
      "106/106 [==============================] - 159s 1s/step - loss: 212.6007 - val_loss: 217.9564\n",
      "Epoch 9/20\n",
      "106/106 [==============================] - 157s 1s/step - loss: 206.7561 - val_loss: 199.4027\n",
      "Epoch 10/20\n",
      "106/106 [==============================] - 157s 1s/step - loss: 195.4785 - val_loss: 197.4665\n",
      "Epoch 11/20\n",
      "106/106 [==============================] - 157s 1s/step - loss: 187.0377 - val_loss: 190.6772\n",
      "Epoch 12/20\n",
      "106/106 [==============================] - 158s 1s/step - loss: 180.1705 - val_loss: 185.4946\n",
      "Epoch 13/20\n",
      "106/106 [==============================] - 159s 1s/step - loss: 176.8678 - val_loss: 186.7070\n",
      "Epoch 14/20\n",
      "106/106 [==============================] - 156s 1s/step - loss: 172.0083 - val_loss: 180.5552\n",
      "Epoch 15/20\n",
      "106/106 [==============================] - 157s 1s/step - loss: 169.3889 - val_loss: 180.1214\n",
      "Epoch 16/20\n",
      "106/106 [==============================] - 157s 1s/step - loss: 165.7714 - val_loss: 173.0402\n",
      "Epoch 17/20\n",
      "106/106 [==============================] - 158s 1s/step - loss: 162.7909 - val_loss: 173.6552\n",
      "Epoch 18/20\n",
      "106/106 [==============================] - 158s 1s/step - loss: 159.6366 - val_loss: 162.0736\n",
      "Epoch 19/20\n",
      "106/106 [==============================] - 158s 1s/step - loss: 157.3745 - val_loss: 161.5561\n",
      "Epoch 20/20\n",
      "106/106 [==============================] - 156s 1s/step - loss: 156.0653 - val_loss: 167.4350\n"
     ]
    }
   ],
   "source": [
    "train_model(input_to_softmax=model_6, \n",
    "            pickle_path='model_6.pickle', \n",
    "            save_model_path='model_6.h5', \n",
    "            spectrogram=False,\n",
    "            optimizer='adam'\n",
    "            ) # change to False if you would like to use MFCC features"
   ]
  },
  {
   "cell_type": "code",
   "execution_count": 14,
   "metadata": {},
   "outputs": [
    {
     "name": "stderr",
     "output_type": "stream",
     "text": [
      "/home/andrzej/.conda/envs/aind-vui/lib/python3.5/site-packages/ipykernel_launcher.py:29: UserWarning: Update your `LSTM` call to the Keras 2 API: `LSTM(200, recurrent_activation=\"sigmoid\", recurrent_initializer=\"uniform\", return_sequences=True, unit_forget_bias=True, activation=\"tanh\", kernel_initializer=\"uniform\")`\n",
      "/home/andrzej/.conda/envs/aind-vui/lib/python3.5/site-packages/ipykernel_launcher.py:41: UserWarning: Update your `LSTM` call to the Keras 2 API: `LSTM(200, recurrent_activation=\"sigmoid\", recurrent_initializer=\"uniform\", return_sequences=True, unit_forget_bias=True, activation=\"tanh\", kernel_initializer=\"uniform\")`\n"
     ]
    },
    {
     "name": "stdout",
     "output_type": "stream",
     "text": [
      "_________________________________________________________________\n",
      "Layer (type)                 Output Shape              Param #   \n",
      "=================================================================\n",
      "the_input (InputLayer)       (None, None, 13)          0         \n",
      "_________________________________________________________________\n",
      "bidirectional_9 (Bidirection (None, None, 400)         342400    \n",
      "_________________________________________________________________\n",
      "batch_normalization_9 (Batch (None, None, 400)         1600      \n",
      "_________________________________________________________________\n",
      "bidirectional_10 (Bidirectio (None, None, 400)         961600    \n",
      "_________________________________________________________________\n",
      "batch_normalization_10 (Batc (None, None, 400)         1600      \n",
      "_________________________________________________________________\n",
      "bidirectional_11 (Bidirectio (None, None, 400)         961600    \n",
      "_________________________________________________________________\n",
      "batch_normalization_11 (Batc (None, None, 400)         1600      \n",
      "_________________________________________________________________\n",
      "bidirectional_12 (Bidirectio (None, None, 400)         961600    \n",
      "_________________________________________________________________\n",
      "batch_normalization_12 (Batc (None, None, 400)         1600      \n",
      "_________________________________________________________________\n",
      "bidirectional_13 (Bidirectio (None, None, 400)         961600    \n",
      "_________________________________________________________________\n",
      "batch_normalization_13 (Batc (None, None, 400)         1600      \n",
      "_________________________________________________________________\n",
      "time_distributed_4 (TimeDist (None, None, 29)          11629     \n",
      "_________________________________________________________________\n",
      "softmax (Activation)         (None, None, 29)          0         \n",
      "=================================================================\n",
      "Total params: 4,208,429\n",
      "Trainable params: 4,204,429\n",
      "Non-trainable params: 4,000\n",
      "_________________________________________________________________\n",
      "None\n"
     ]
    }
   ],
   "source": [
    "# Deeper RNN\n",
    "model_7 = deep_bidirectional_lstm_rnn_model(input_dim=13, # change to 13 if you would like to use MFCC features\n",
    "                         units=200,\n",
    "                         recur_layers=5) "
   ]
  },
  {
   "cell_type": "code",
   "execution_count": null,
   "metadata": {},
   "outputs": [
    {
     "name": "stdout",
     "output_type": "stream",
     "text": [
      "Epoch 1/20\n",
      "106/106 [==============================] - 1640s 15s/step - loss: 295.4440 - val_loss: 228.1016\n",
      "Epoch 2/20\n",
      "106/106 [==============================] - 1657s 16s/step - loss: 217.9818 - val_loss: 201.7360\n",
      "Epoch 3/20\n",
      "106/106 [==============================] - 1671s 16s/step - loss: 206.0689 - val_loss: 193.1924\n",
      "Epoch 4/20\n",
      "106/106 [==============================] - 1663s 16s/step - loss: 187.1617 - val_loss: 189.4070\n",
      "Epoch 5/20\n",
      "106/106 [==============================] - 1658s 16s/step - loss: 160.2700 - val_loss: 160.2153\n",
      "Epoch 6/20\n",
      "106/106 [==============================] - 1667s 16s/step - loss: 136.7429 - val_loss: 144.0075\n",
      "Epoch 7/20\n",
      "106/106 [==============================] - 1664s 16s/step - loss: 122.4295 - val_loss: 126.3198\n",
      "Epoch 8/20\n",
      "106/106 [==============================] - 1651s 16s/step - loss: 109.4775 - val_loss: 123.7493\n",
      "Epoch 9/20\n",
      "106/106 [==============================] - 1665s 16s/step - loss: 100.2593 - val_loss: 115.3340\n",
      "Epoch 10/20\n",
      "106/106 [==============================] - 1668s 16s/step - loss: 92.4230 - val_loss: 118.6565\n",
      "Epoch 11/20\n",
      "106/106 [==============================] - 1664s 16s/step - loss: 84.9004 - val_loss: 114.3913\n",
      "Epoch 12/20\n",
      "106/106 [==============================] - 1665s 16s/step - loss: 77.4415 - val_loss: 113.1477\n",
      "Epoch 13/20\n",
      "106/106 [==============================] - 1656s 16s/step - loss: 70.5508 - val_loss: 117.2059\n",
      "Epoch 14/20\n",
      "106/106 [==============================] - 1669s 16s/step - loss: 64.8076 - val_loss: 119.2938\n",
      "Epoch 15/20\n",
      "106/106 [==============================] - 1654s 16s/step - loss: 59.4956 - val_loss: 120.1905\n",
      "Epoch 16/20\n",
      "106/106 [==============================] - 1669s 16s/step - loss: 52.7950 - val_loss: 118.8374\n",
      "Epoch 17/20\n",
      "106/106 [==============================] - 1665s 16s/step - loss: 47.5736 - val_loss: 124.4854\n",
      "Epoch 18/20\n",
      "106/106 [==============================] - 1668s 16s/step - loss: 43.1983 - val_loss: 123.7454\n",
      "Epoch 19/20\n",
      "106/106 [==============================] - 1642s 15s/step - loss: 38.7536 - val_loss: 132.5389\n",
      "Epoch 20/20\n",
      "106/106 [==============================] - 1665s 16s/step - loss: 35.6744 - val_loss: 136.5971\n"
     ]
    }
   ],
   "source": [
    "train_model(input_to_softmax=model_7, \n",
    "            pickle_path='model_7.pickle', \n",
    "            save_model_path='model_7.h5', \n",
    "            spectrogram=False,\n",
    "            optimizer='adam') # change to False if you would like to use MFCC features"
   ]
  },
  {
   "cell_type": "markdown",
   "metadata": {},
   "source": [
    "**Previous model shows signs of overfitting, so we'll add dropout and make it run longer**"
   ]
  },
  {
   "cell_type": "code",
   "execution_count": 2,
   "metadata": {},
   "outputs": [],
   "source": [
    "# previous net overfits! add dropout\n",
    "## (Optional) TODO: Try out some more models!\n",
    "### Feel free to use as many code cells as needed.\n",
    "\n",
    "from keras.layers import (BatchNormalization, Conv1D, Dense, Input, \n",
    "    TimeDistributed, Activation, Bidirectional, SimpleRNN, GRU, LSTM, Dropout)\n",
    "\n",
    "def deep_bidirectional_lstm_rnn_dropout_model(input_dim, units, recur_layers, output_dim=29):\n",
    "    \"\"\" Build a deep recurrent network for speech \n",
    "    \"\"\"\n",
    "    \n",
    "    \n",
    "    # Main acoustic input\n",
    "    input_data = Input(name='the_input', shape=(None, input_dim))\n",
    "   # conv_1d = Conv1D(filters, kernel_size, \n",
    "   #                  strides=conv_stride, \n",
    "    #                 padding=conv_border_mode,\n",
    "     #                activation='relu',\n",
    "      #               name='conv1d')(input_data)\n",
    "    \n",
    "    recurnn_layers=[]\n",
    "    batchnm_layers=[]\n",
    "    dropout_layers=[]\n",
    "    dropout_prob = 0.5\n",
    "    \n",
    "    recurnn_layers.append(Bidirectional(LSTM(units, activation='tanh',\n",
    "                                                return_sequences=True,\n",
    "                                                init='uniform', inner_init='uniform',\n",
    "                                                forget_bias_init='one', \n",
    "                                                inner_activation='sigmoid'), \n",
    "                                        merge_mode='concat')(input_data))\n",
    "    \n",
    "    batchnm_layers.append(BatchNormalization()(recurnn_layers[0]))\n",
    "    #dropout_layers.append(Dropout(dropout_prob)(batchnm_layers[0]))\n",
    "    \n",
    "    for i in range(1,recur_layers):\n",
    "        \n",
    "        recurnn_layers.append(Bidirectional(LSTM(units, activation='tanh',\n",
    "                                                return_sequences=True,\n",
    "                                                init='uniform', inner_init='uniform',\n",
    "                                                forget_bias_init='one', \n",
    "                                                inner_activation='sigmoid',\n",
    "                                                dropout_U=dropout_prob,\n",
    "                                                dropout_W=dropout_prob), \n",
    "                                            merge_mode='concat')(batchnm_layers[i-1]))\n",
    "        \n",
    "        batchnm_layers.append(BatchNormalization()(recurnn_layers[i]))\n",
    "     #   dropout_layers.append(Dropout(dropout_prob)(batchnm_layers[i]))\n",
    "\n",
    "    \n",
    "    \n",
    "    # TODO: Add a TimeDistributed(Dense(output_dim)) layer\n",
    "    time_dense = TimeDistributed(Dense(output_dim))(batchnm_layers[recur_layers-1])\n",
    "    \n",
    "    # Add softmax activation layer\n",
    "    y_pred = Activation('softmax', name='softmax')(time_dense)\n",
    "    \n",
    "    # Specify the model\n",
    "    model = Model(inputs=input_data, outputs=y_pred)\n",
    "    model.output_length = lambda x: x\n",
    "    print(model.summary())\n",
    "    return model"
   ]
  },
  {
   "cell_type": "code",
   "execution_count": 62,
   "metadata": {},
   "outputs": [
    {
     "name": "stderr",
     "output_type": "stream",
     "text": [
      "/home/andrzej/.conda/envs/aind-vui/lib/python3.5/site-packages/ipykernel_launcher.py:30: UserWarning: Update your `LSTM` call to the Keras 2 API: `LSTM(200, recurrent_activation=\"sigmoid\", recurrent_initializer=\"uniform\", return_sequences=True, unit_forget_bias=True, activation=\"tanh\", kernel_initializer=\"uniform\")`\n",
      "/home/andrzej/.conda/envs/aind-vui/lib/python3.5/site-packages/ipykernel_launcher.py:44: UserWarning: Update your `LSTM` call to the Keras 2 API: `LSTM(200, dropout=0.5, unit_forget_bias=True, kernel_initializer=\"uniform\", recurrent_dropout=0.5, recurrent_activation=\"sigmoid\", activation=\"tanh\", recurrent_initializer=\"uniform\", return_sequences=True)`\n"
     ]
    },
    {
     "name": "stdout",
     "output_type": "stream",
     "text": [
      "_________________________________________________________________\n",
      "Layer (type)                 Output Shape              Param #   \n",
      "=================================================================\n",
      "the_input (InputLayer)       (None, None, 13)          0         \n",
      "_________________________________________________________________\n",
      "bidirectional_24 (Bidirectio (None, None, 400)         342400    \n",
      "_________________________________________________________________\n",
      "batch_normalization_24 (Batc (None, None, 400)         1600      \n",
      "_________________________________________________________________\n",
      "bidirectional_25 (Bidirectio (None, None, 400)         961600    \n",
      "_________________________________________________________________\n",
      "batch_normalization_25 (Batc (None, None, 400)         1600      \n",
      "_________________________________________________________________\n",
      "bidirectional_26 (Bidirectio (None, None, 400)         961600    \n",
      "_________________________________________________________________\n",
      "batch_normalization_26 (Batc (None, None, 400)         1600      \n",
      "_________________________________________________________________\n",
      "bidirectional_27 (Bidirectio (None, None, 400)         961600    \n",
      "_________________________________________________________________\n",
      "batch_normalization_27 (Batc (None, None, 400)         1600      \n",
      "_________________________________________________________________\n",
      "bidirectional_28 (Bidirectio (None, None, 400)         961600    \n",
      "_________________________________________________________________\n",
      "batch_normalization_28 (Batc (None, None, 400)         1600      \n",
      "_________________________________________________________________\n",
      "time_distributed_24 (TimeDis (None, None, 29)          11629     \n",
      "_________________________________________________________________\n",
      "softmax (Activation)         (None, None, 29)          0         \n",
      "=================================================================\n",
      "Total params: 4,208,429\n",
      "Trainable params: 4,204,429\n",
      "Non-trainable params: 4,000\n",
      "_________________________________________________________________\n",
      "None\n"
     ]
    }
   ],
   "source": [
    "model_8 = deep_bidirectional_lstm_rnn_dropout_model(input_dim=13, # change to 13 if you would like to use MFCC features\n",
    "                         units=200,\n",
    "                         recur_layers=5) "
   ]
  },
  {
   "cell_type": "code",
   "execution_count": null,
   "metadata": {},
   "outputs": [
    {
     "name": "stdout",
     "output_type": "stream",
     "text": [
      "Epoch 1/20\n",
      "106/106 [==============================] - 2019s 19s/step - loss: 420.4661 - val_loss: 267.3283\n",
      "Epoch 2/20\n",
      "106/106 [==============================] - 2048s 19s/step - loss: 243.2689 - val_loss: 217.8182\n",
      "Epoch 3/20\n",
      "106/106 [==============================] - 2044s 19s/step - loss: 230.4583 - val_loss: 210.2646\n",
      "Epoch 4/20\n",
      "106/106 [==============================] - 2052s 19s/step - loss: 223.9027 - val_loss: 212.2119\n",
      "Epoch 5/20\n",
      "106/106 [==============================] - 2038s 19s/step - loss: 222.4339 - val_loss: 206.6526\n",
      "Epoch 6/20\n",
      "106/106 [==============================] - 2051s 19s/step - loss: 218.4175 - val_loss: 209.4351\n",
      "Epoch 7/20\n",
      "105/106 [============================>.] - ETA: 15s - loss: 215.8531"
     ]
    }
   ],
   "source": [
    "train_model(input_to_softmax=model_8, \n",
    "            pickle_path='model_8.pickle', \n",
    "            save_model_path='model_8.h5', \n",
    "            spectrogram=False,\n",
    "            optimizer='adam') # change to False if you would like to use MFCC features"
   ]
  },
  {
   "cell_type": "markdown",
   "metadata": {},
   "source": [
    "## Loss is still dropping, there is no overfitting - train longer!"
   ]
  },
  {
   "cell_type": "code",
   "execution_count": null,
   "metadata": {},
   "outputs": [
    {
     "name": "stderr",
     "output_type": "stream",
     "text": [
      "/home/andrzej/.conda/envs/aind-vui/lib/python3.5/site-packages/ipykernel_launcher.py:30: UserWarning: Update your `LSTM` call to the Keras 2 API: `LSTM(200, recurrent_activation=\"sigmoid\", recurrent_initializer=\"uniform\", return_sequences=True, unit_forget_bias=True, activation=\"tanh\", kernel_initializer=\"uniform\")`\n",
      "/home/andrzej/.conda/envs/aind-vui/lib/python3.5/site-packages/ipykernel_launcher.py:44: UserWarning: Update your `LSTM` call to the Keras 2 API: `LSTM(200, dropout=0.5, unit_forget_bias=True, kernel_initializer=\"uniform\", recurrent_dropout=0.5, recurrent_activation=\"sigmoid\", activation=\"tanh\", recurrent_initializer=\"uniform\", return_sequences=True)`\n"
     ]
    },
    {
     "name": "stdout",
     "output_type": "stream",
     "text": [
      "_________________________________________________________________\n",
      "Layer (type)                 Output Shape              Param #   \n",
      "=================================================================\n",
      "the_input (InputLayer)       (None, None, 13)          0         \n",
      "_________________________________________________________________\n",
      "bidirectional_1 (Bidirection (None, None, 400)         342400    \n",
      "_________________________________________________________________\n",
      "batch_normalization_1 (Batch (None, None, 400)         1600      \n",
      "_________________________________________________________________\n",
      "bidirectional_2 (Bidirection (None, None, 400)         961600    \n",
      "_________________________________________________________________\n",
      "batch_normalization_2 (Batch (None, None, 400)         1600      \n",
      "_________________________________________________________________\n",
      "bidirectional_3 (Bidirection (None, None, 400)         961600    \n",
      "_________________________________________________________________\n",
      "batch_normalization_3 (Batch (None, None, 400)         1600      \n",
      "_________________________________________________________________\n",
      "bidirectional_4 (Bidirection (None, None, 400)         961600    \n",
      "_________________________________________________________________\n",
      "batch_normalization_4 (Batch (None, None, 400)         1600      \n",
      "_________________________________________________________________\n",
      "bidirectional_5 (Bidirection (None, None, 400)         961600    \n",
      "_________________________________________________________________\n",
      "batch_normalization_5 (Batch (None, None, 400)         1600      \n",
      "_________________________________________________________________\n",
      "time_distributed_1 (TimeDist (None, None, 29)          11629     \n",
      "_________________________________________________________________\n",
      "softmax (Activation)         (None, None, 29)          0         \n",
      "=================================================================\n",
      "Total params: 4,208,429\n",
      "Trainable params: 4,204,429\n",
      "Non-trainable params: 4,000\n",
      "_________________________________________________________________\n",
      "None\n",
      "Epoch 1/40\n",
      "106/106 [==============================] - 2045s 19s/step - loss: 408.2233 - val_loss: 269.1923\n",
      "Epoch 2/40\n",
      "106/106 [==============================] - 2015s 19s/step - loss: 253.9575 - val_loss: 235.8898\n",
      "Epoch 3/40\n",
      "106/106 [==============================] - 1999s 19s/step - loss: 231.6554 - val_loss: 211.0050\n",
      "Epoch 4/40\n",
      "106/106 [==============================] - 1989s 19s/step - loss: 233.2596 - val_loss: 240.1430\n",
      "Epoch 5/40\n",
      "106/106 [==============================] - 1990s 19s/step - loss: 224.4082 - val_loss: 205.6133\n",
      "Epoch 6/40\n",
      "106/106 [==============================] - 2010s 19s/step - loss: 215.3643 - val_loss: 204.0271\n",
      "Epoch 7/40\n",
      "106/106 [==============================] - 2001s 19s/step - loss: 210.6407 - val_loss: 200.1797\n",
      "Epoch 8/40\n",
      "106/106 [==============================] - 1989s 19s/step - loss: 206.7239 - val_loss: 200.5017\n",
      "Epoch 9/40\n",
      "106/106 [==============================] - 2009s 19s/step - loss: 203.7832 - val_loss: 192.3612\n",
      "Epoch 10/40\n",
      "106/106 [==============================] - 2009s 19s/step - loss: 201.3427 - val_loss: 190.9164\n",
      "Epoch 11/40\n",
      "106/106 [==============================] - 1998s 19s/step - loss: 198.2824 - val_loss: 192.4881\n",
      "Epoch 12/40\n",
      "106/106 [==============================] - 1998s 19s/step - loss: 194.5593 - val_loss: 182.2078\n",
      "Epoch 13/40\n",
      "106/106 [==============================] - 1999s 19s/step - loss: 190.8319 - val_loss: 183.6492\n",
      "Epoch 14/40\n",
      "106/106 [==============================] - 1991s 19s/step - loss: 187.5143 - val_loss: 176.0676\n",
      "Epoch 15/40\n",
      "106/106 [==============================] - 2011s 19s/step - loss: 181.1836 - val_loss: 170.4725\n",
      "Epoch 16/40\n",
      "106/106 [==============================] - 2006s 19s/step - loss: 174.9399 - val_loss: 159.8861\n",
      "Epoch 17/40\n",
      "106/106 [==============================] - 2006s 19s/step - loss: 169.7744 - val_loss: 239.0895\n",
      "Epoch 18/40\n",
      "106/106 [==============================] - 2006s 19s/step - loss: 166.5770 - val_loss: 191.8298\n",
      "Epoch 19/40\n",
      "106/106 [==============================] - 2006s 19s/step - loss: 160.7745 - val_loss: 159.7106\n",
      "Epoch 20/40\n",
      "106/106 [==============================] - 2006s 19s/step - loss: 155.7754 - val_loss: 146.0855\n",
      "Epoch 21/40\n",
      "106/106 [==============================] - 2006s 19s/step - loss: 151.9460 - val_loss: 142.0333\n",
      "Epoch 22/40\n",
      "106/106 [==============================] - 2006s 19s/step - loss: 148.1944 - val_loss: 142.9781\n",
      "Epoch 23/40\n",
      "106/106 [==============================] - 2006s 19s/step - loss: 145.3082 - val_loss: 133.9751\n",
      "Epoch 24/40\n",
      "106/106 [==============================] - 2006s 19s/step - loss: 141.6321 - val_loss: 132.1437\n",
      "Epoch 25/40\n",
      "106/106 [==============================] - 2006s 19s/step - loss: 138.8029 - val_loss: 130.9964\n",
      "Epoch 26/40\n",
      "106/106 [==============================] - 2006s 19s/step - loss: 135.2020 - val_loss: 126.7394\n",
      "Epoch 27/40\n",
      "106/106 [==============================] - 2006s 19s/step - loss: 133.1338 - val_loss: 129.9878\n",
      "Epoch 28/40\n",
      "106/106 [==============================] - 2006s 19s/step - loss: 131.5055 - val_loss: 126.4727\n",
      "Epoch 29/40\n",
      "106/106 [==============================] - 2006s 19s/step - loss: 129.1651 - val_loss: 123.3075\n",
      "Epoch 30/40\n",
      "106/106 [==============================] - 2006s 19s/step - loss: 127.6093 - val_loss: 125.8349\n",
      "Epoch 31/40\n",
      "106/106 [==============================] - 2006s 19s/step - loss: 126.6005 - val_loss: 121.0211\n",
      "Epoch 32/40\n",
      "106/106 [==============================] - 2006s 19s/step - loss: 122.7454 - val_loss: 118.2189\n",
      "Epoch 33/40\n",
      "106/106 [==============================] - 2006s 19s/step - loss: 120.7760 - val_loss: 117.1556\n",
      "Epoch 34/40\n",
      "106/106 [==============================] - 2006s 19s/step - loss: 118.2968 - val_loss: 119.3058\n",
      "Epoch 35/40\n",
      "106/106 [==============================] - 2006s 19s/step - loss: 116.9617 - val_loss: 116.4413\n",
      "Epoch 36/40\n",
      "106/106 [==============================] - 2006s 19s/step - loss: 114.7247 - val_loss: 114.7549\n",
      "Epoch 37/40\n",
      "106/106 [==============================] - 2006s 19s/step - loss: 113.8907 - val_loss: 111.5403\n",
      "Epoch 38/40\n",
      "106/106 [==============================] - 2006s 19s/step - loss: 114.4882 - val_loss: 117.1543\n",
      "Epoch 39/40\n",
      "106/106 [==============================] - 2006s 19s/step - loss: 112.7188 - val_loss: 113.8129\n",
      "Epoch 40/40\n",
      "106/106 [==============================] - 2006s 19s/step - loss: 109.7539 - val_loss: 108.0147\n"
     ]
    }
   ],
   "source": [
    "model_8_40 = deep_bidirectional_lstm_rnn_dropout_model(input_dim=13, # change to 13 if you would like to use MFCC features\n",
    "                         units=200,\n",
    "                         recur_layers=5) \n",
    "train_model(input_to_softmax=model_8_40, \n",
    "            pickle_path='model_8_40.pickle', \n",
    "            save_model_path='model_8_40.h5', \n",
    "            spectrogram=False,\n",
    "            optimizer='adam',\n",
    "            epochs=40) # change to False if you would like to use MFCC features"
   ]
  },
  {
   "cell_type": "code",
   "execution_count": 54,
   "metadata": {},
   "outputs": [],
   "source": [
    "# previous net overfits! add dropout\n",
    "## (Optional) TODO: Try out some more models!\n",
    "### Feel free to use as many code cells as needed.\n",
    "\n",
    "from keras.layers import (BatchNormalization, Conv1D, Dense, Input, \n",
    "    TimeDistributed, Activation, Bidirectional, SimpleRNN, GRU, LSTM, Dropout)\n",
    "\n",
    "def dense_deep_bidirectional_lstm_rnn_dropout_model(input_dim, units, recur_layers, output_dim=29):\n",
    "    \"\"\" Build a deep recurrent network for speech \n",
    "    \"\"\"\n",
    "    \n",
    "    \n",
    "    # Main acoustic input\n",
    "    input_data = Input(name='the_input', shape=(None, input_dim))\n",
    "   # conv_1d = Conv1D(filters, kernel_size, \n",
    "   #                  strides=conv_stride, \n",
    "    #                 padding=conv_border_mode,\n",
    "     #                activation='relu',\n",
    "      #               name='conv1d')(input_data)\n",
    "    \n",
    "    recurnn_layers=[]\n",
    "    batchnm_layers=[]\n",
    "    dropout_layers=[]\n",
    "    dropout_prob = 0.5\n",
    "    dense1 = Dense(units)(input_data)\n",
    "    dense2 = Dense(units)(dense1)\n",
    "    dense3 = Dense(units)(dense2)\n",
    "    \n",
    "    \n",
    "    recurnn_layers.append(Bidirectional(LSTM(units, activation='tanh',\n",
    "                                                return_sequences=True,\n",
    "                                                init='uniform', inner_init='uniform',\n",
    "                                                forget_bias_init='one', \n",
    "                                                inner_activation='sigmoid'), \n",
    "                                        merge_mode='concat')(dense3))\n",
    "    \n",
    "    batchnm_layers.append(BatchNormalization()(recurnn_layers[0]))\n",
    "    #dropout_layers.append(Dropout(dropout_prob)(batchnm_layers[0]))\n",
    "    \n",
    "    for i in range(1,recur_layers):\n",
    "        \n",
    "        recurnn_layers.append(Bidirectional(LSTM(units, activation='tanh',\n",
    "                                                return_sequences=True,\n",
    "                                                init='uniform', inner_init='uniform',\n",
    "                                                forget_bias_init='one', \n",
    "                                                inner_activation='sigmoid',\n",
    "                                                dropout_U=dropout_prob,\n",
    "                                                dropout_W=dropout_prob), \n",
    "                                            merge_mode='concat')(batchnm_layers[i-1]))\n",
    "        \n",
    "        batchnm_layers.append(BatchNormalization()(recurnn_layers[i]))\n",
    "     #   dropout_layers.append(Dropout(dropout_prob)(batchnm_layers[i]))\n",
    "\n",
    "    \n",
    "    \n",
    "    # TODO: Add a TimeDistributed(Dense(output_dim)) layer\n",
    "    time_dense = TimeDistributed(Dense(output_dim))(batchnm_layers[recur_layers-1])\n",
    "    \n",
    "    # Add softmax activation layer\n",
    "    y_pred = Activation('softmax', name='softmax')(time_dense)\n",
    "    \n",
    "    # Specify the model\n",
    "    model = Model(inputs=input_data, outputs=y_pred)\n",
    "    model.output_length = lambda x: x\n",
    "    print(model.summary())\n",
    "    return model"
   ]
  },
  {
   "cell_type": "code",
   "execution_count": 55,
   "metadata": {},
   "outputs": [
    {
     "name": "stderr",
     "output_type": "stream",
     "text": [
      "/home/andrzej/.conda/envs/aind-vui/lib/python3.5/site-packages/ipykernel_launcher.py:34: UserWarning: Update your `LSTM` call to the Keras 2 API: `LSTM(200, recurrent_activation=\"sigmoid\", recurrent_initializer=\"uniform\", return_sequences=True, unit_forget_bias=True, activation=\"tanh\", kernel_initializer=\"uniform\")`\n"
     ]
    },
    {
     "name": "stdout",
     "output_type": "stream",
     "text": [
      "_________________________________________________________________\n",
      "Layer (type)                 Output Shape              Param #   \n",
      "=================================================================\n",
      "the_input (InputLayer)       (None, None, 13)          0         \n",
      "_________________________________________________________________\n",
      "dense_26 (Dense)             (None, None, 200)         2800      \n",
      "_________________________________________________________________\n",
      "dense_27 (Dense)             (None, None, 200)         40200     \n",
      "_________________________________________________________________\n",
      "dense_28 (Dense)             (None, None, 200)         40200     \n",
      "_________________________________________________________________\n",
      "bidirectional_22 (Bidirectio (None, None, 400)         641600    \n",
      "_________________________________________________________________\n",
      "batch_normalization_22 (Batc (None, None, 400)         1600      \n",
      "_________________________________________________________________\n",
      "time_distributed_22 (TimeDis (None, None, 29)          11629     \n",
      "_________________________________________________________________\n",
      "softmax (Activation)         (None, None, 29)          0         \n",
      "=================================================================\n",
      "Total params: 738,029\n",
      "Trainable params: 737,229\n",
      "Non-trainable params: 800\n",
      "_________________________________________________________________\n",
      "None\n"
     ]
    }
   ],
   "source": [
    "model_9 = dense_deep_bidirectional_lstm_rnn_dropout_model(input_dim=13, # change to 13 if you would like to use MFCC features\n",
    "                         units=200,\n",
    "                         recur_layers=1) "
   ]
  },
  {
   "cell_type": "code",
   "execution_count": 56,
   "metadata": {},
   "outputs": [
    {
     "name": "stdout",
     "output_type": "stream",
     "text": [
      "Epoch 1/20\n",
      "106/106 [==============================] - 373s 4s/step - loss: 278.6123 - val_loss: 226.8180\n",
      "Epoch 2/20\n",
      "106/106 [==============================] - 378s 4s/step - loss: 229.1771 - val_loss: 211.9868\n",
      "Epoch 3/20\n",
      "106/106 [==============================] - 375s 4s/step - loss: 219.6362 - val_loss: 207.1136\n",
      "Epoch 4/20\n",
      "106/106 [==============================] - 376s 4s/step - loss: 215.2532 - val_loss: 207.2517\n",
      "Epoch 5/20\n",
      "106/106 [==============================] - 375s 4s/step - loss: 210.7943 - val_loss: 199.3458\n",
      "Epoch 6/20\n",
      "106/106 [==============================] - 374s 4s/step - loss: 204.2542 - val_loss: 197.8752\n",
      "Epoch 7/20\n",
      "106/106 [==============================] - 379s 4s/step - loss: 206.4249 - val_loss: 190.1179\n",
      "Epoch 8/20\n",
      "106/106 [==============================] - 373s 4s/step - loss: 183.7857 - val_loss: 174.4473\n",
      "Epoch 9/20\n",
      "106/106 [==============================] - 376s 4s/step - loss: 166.9844 - val_loss: 158.3310\n",
      "Epoch 10/20\n",
      "106/106 [==============================] - 373s 4s/step - loss: 156.7002 - val_loss: 151.5835\n",
      "Epoch 11/20\n",
      "106/106 [==============================] - 374s 4s/step - loss: 147.0015 - val_loss: 146.9654\n",
      "Epoch 12/20\n",
      "106/106 [==============================] - 375s 4s/step - loss: 140.6696 - val_loss: 141.7333\n",
      "Epoch 13/20\n",
      "106/106 [==============================] - 375s 4s/step - loss: 135.9880 - val_loss: 139.5014\n",
      "Epoch 14/20\n",
      "106/106 [==============================] - 373s 4s/step - loss: 129.8632 - val_loss: 136.5591\n",
      "Epoch 15/20\n",
      "106/106 [==============================] - 377s 4s/step - loss: 125.2243 - val_loss: 134.8884\n",
      "Epoch 16/20\n",
      "106/106 [==============================] - 374s 4s/step - loss: 120.9241 - val_loss: 133.7268\n",
      "Epoch 17/20\n",
      "106/106 [==============================] - 377s 4s/step - loss: 117.5985 - val_loss: 131.1812\n",
      "Epoch 18/20\n",
      "106/106 [==============================] - 373s 4s/step - loss: 113.8792 - val_loss: 129.8425\n",
      "Epoch 19/20\n",
      "106/106 [==============================] - 375s 4s/step - loss: 110.6942 - val_loss: 130.6376\n",
      "Epoch 20/20\n",
      "106/106 [==============================] - 371s 4s/step - loss: 107.4303 - val_loss: 129.0505\n"
     ]
    }
   ],
   "source": [
    "from keras.optimizers import Adam\n",
    "\n",
    "train_model(input_to_softmax=model_9, \n",
    "            pickle_path='model_9.pickle', \n",
    "            save_model_path='model_9.h5', \n",
    "            spectrogram=False,\n",
    "            optimizer=Adam(lr=0.001, beta_1=0.9, beta_2=0.999)\n",
    "           ) # change to False if you would like to use MFCC features"
   ]
  },
  {
   "cell_type": "code",
   "execution_count": 59,
   "metadata": {},
   "outputs": [
    {
     "name": "stderr",
     "output_type": "stream",
     "text": [
      "/home/andrzej/.conda/envs/aind-vui/lib/python3.5/site-packages/ipykernel_launcher.py:34: UserWarning: Update your `LSTM` call to the Keras 2 API: `LSTM(200, recurrent_activation=\"sigmoid\", recurrent_initializer=\"uniform\", return_sequences=True, unit_forget_bias=True, activation=\"tanh\", kernel_initializer=\"uniform\")`\n"
     ]
    },
    {
     "name": "stdout",
     "output_type": "stream",
     "text": [
      "_________________________________________________________________\n",
      "Layer (type)                 Output Shape              Param #   \n",
      "=================================================================\n",
      "the_input (InputLayer)       (None, None, 13)          0         \n",
      "_________________________________________________________________\n",
      "dense_30 (Dense)             (None, None, 200)         2800      \n",
      "_________________________________________________________________\n",
      "dense_31 (Dense)             (None, None, 200)         40200     \n",
      "_________________________________________________________________\n",
      "dense_32 (Dense)             (None, None, 200)         40200     \n",
      "_________________________________________________________________\n",
      "bidirectional_23 (Bidirectio (None, None, 400)         641600    \n",
      "_________________________________________________________________\n",
      "batch_normalization_23 (Batc (None, None, 400)         1600      \n",
      "_________________________________________________________________\n",
      "time_distributed_23 (TimeDis (None, None, 29)          11629     \n",
      "_________________________________________________________________\n",
      "softmax (Activation)         (None, None, 29)          0         \n",
      "=================================================================\n",
      "Total params: 738,029\n",
      "Trainable params: 737,229\n",
      "Non-trainable params: 800\n",
      "_________________________________________________________________\n",
      "None\n"
     ]
    }
   ],
   "source": [
    "model_9_40 = dense_deep_bidirectional_lstm_rnn_dropout_model(input_dim=13, # change to 13 if you would like to use MFCC features\n",
    "                         units=200,\n",
    "                         recur_layers=1) "
   ]
  },
  {
   "cell_type": "code",
   "execution_count": 60,
   "metadata": {},
   "outputs": [
    {
     "name": "stdout",
     "output_type": "stream",
     "text": [
      "Epoch 1/40\n",
      "106/106 [==============================] - 374s 4s/step - loss: 301.2629 - val_loss: 270.7523\n",
      "Epoch 2/40\n",
      "106/106 [==============================] - 374s 4s/step - loss: 245.1465 - val_loss: 235.2178\n",
      "Epoch 3/40\n",
      "106/106 [==============================] - 374s 4s/step - loss: 232.5270 - val_loss: 228.4129\n",
      "Epoch 4/40\n",
      "106/106 [==============================] - 374s 4s/step - loss: 223.8752 - val_loss: 215.7052\n",
      "Epoch 5/40\n",
      "106/106 [==============================] - 372s 4s/step - loss: 216.7151 - val_loss: 199.3813\n",
      "Epoch 6/40\n",
      "106/106 [==============================] - 375s 4s/step - loss: 199.1892 - val_loss: 180.2811\n",
      "Epoch 7/40\n",
      "106/106 [==============================] - 376s 4s/step - loss: 180.9249 - val_loss: 166.1062\n",
      "Epoch 8/40\n",
      "106/106 [==============================] - 374s 4s/step - loss: 166.9248 - val_loss: 158.0537\n",
      "Epoch 9/40\n",
      "106/106 [==============================] - 375s 4s/step - loss: 158.7999 - val_loss: 149.6791\n",
      "Epoch 10/40\n",
      "106/106 [==============================] - 373s 4s/step - loss: 150.6800 - val_loss: 149.5819\n",
      "Epoch 11/40\n",
      "106/106 [==============================] - 375s 4s/step - loss: 145.1340 - val_loss: 158.1325\n",
      "Epoch 12/40\n",
      "106/106 [==============================] - 373s 4s/step - loss: 142.6584 - val_loss: 142.0960\n",
      "Epoch 13/40\n",
      "106/106 [==============================] - 372s 4s/step - loss: 135.3538 - val_loss: 138.4003\n",
      "Epoch 14/40\n",
      "106/106 [==============================] - 375s 4s/step - loss: 132.3056 - val_loss: 136.6988\n",
      "Epoch 15/40\n",
      "106/106 [==============================] - 374s 4s/step - loss: 127.7685 - val_loss: 132.5553\n",
      "Epoch 16/40\n",
      "106/106 [==============================] - 377s 4s/step - loss: 124.6108 - val_loss: 133.1638\n",
      "Epoch 17/40\n",
      "106/106 [==============================] - 375s 4s/step - loss: 121.5396 - val_loss: 132.5343\n",
      "Epoch 18/40\n",
      "106/106 [==============================] - 374s 4s/step - loss: 117.7720 - val_loss: 131.0857\n",
      "Epoch 19/40\n",
      "106/106 [==============================] - 375s 4s/step - loss: 115.3548 - val_loss: 130.0348\n",
      "Epoch 20/40\n",
      "106/106 [==============================] - 377s 4s/step - loss: 112.5369 - val_loss: 128.9658\n",
      "Epoch 21/40\n",
      "106/106 [==============================] - 373s 4s/step - loss: 110.1094 - val_loss: 128.7757\n",
      "Epoch 22/40\n",
      "106/106 [==============================] - 376s 4s/step - loss: 107.6286 - val_loss: 128.9429\n",
      "Epoch 23/40\n",
      "106/106 [==============================] - 374s 4s/step - loss: 105.3807 - val_loss: 127.5193\n",
      "Epoch 24/40\n",
      "106/106 [==============================] - 375s 4s/step - loss: 102.8039 - val_loss: 129.6069\n",
      "Epoch 25/40\n",
      "106/106 [==============================] - 373s 4s/step - loss: 100.7540 - val_loss: 129.2476\n",
      "Epoch 26/40\n",
      "106/106 [==============================] - 376s 4s/step - loss: 98.7474 - val_loss: 133.1246\n",
      "Epoch 27/40\n",
      "106/106 [==============================] - 376s 4s/step - loss: 96.2364 - val_loss: 128.8881\n",
      "Epoch 28/40\n",
      "106/106 [==============================] - 374s 4s/step - loss: 94.1513 - val_loss: 129.7504\n",
      "Epoch 29/40\n",
      "106/106 [==============================] - 375s 4s/step - loss: 91.9655 - val_loss: 130.6007\n",
      "Epoch 30/40\n",
      "106/106 [==============================] - 373s 4s/step - loss: 89.5709 - val_loss: 132.3828\n",
      "Epoch 31/40\n",
      "106/106 [==============================] - 375s 4s/step - loss: 88.2389 - val_loss: 131.8909\n",
      "Epoch 32/40\n",
      "106/106 [==============================] - 373s 4s/step - loss: 85.7304 - val_loss: 132.6117\n",
      "Epoch 33/40\n",
      "106/106 [==============================] - 373s 4s/step - loss: 84.0667 - val_loss: 135.4923\n",
      "Epoch 34/40\n",
      "106/106 [==============================] - 376s 4s/step - loss: 81.8978 - val_loss: 134.8292\n",
      "Epoch 35/40\n",
      "106/106 [==============================] - 374s 4s/step - loss: 79.6997 - val_loss: 136.1578\n",
      "Epoch 36/40\n",
      "106/106 [==============================] - 375s 4s/step - loss: 78.2897 - val_loss: 138.7150\n",
      "Epoch 37/40\n",
      "106/106 [==============================] - 374s 4s/step - loss: 75.5695 - val_loss: 138.6847\n",
      "Epoch 38/40\n",
      "106/106 [==============================] - 374s 4s/step - loss: 74.2605 - val_loss: 142.0014\n",
      "Epoch 39/40\n",
      "106/106 [==============================] - 373s 4s/step - loss: 71.9396 - val_loss: 142.5005\n",
      "Epoch 40/40\n",
      "106/106 [==============================] - 376s 4s/step - loss: 70.1382 - val_loss: 144.3676\n"
     ]
    }
   ],
   "source": [
    "train_model(input_to_softmax=model_9_40, \n",
    "            pickle_path='model_9.pickle', \n",
    "            save_model_path='model_9.h5', \n",
    "            spectrogram=False,\n",
    "            optimizer=Adam(lr=0.001, beta_1=0.9, beta_2=0.999),\n",
    "            epochs=40\n",
    "           ) # change to False if you would like to use MFCC features"
   ]
  },
  {
   "cell_type": "markdown",
   "metadata": {},
   "source": [
    "### Try with more neurons in hidden layers"
   ]
  },
  {
   "cell_type": "code",
   "execution_count": 84,
   "metadata": {},
   "outputs": [
    {
     "name": "stderr",
     "output_type": "stream",
     "text": [
      "/home/andrzej/.conda/envs/aind-vui/lib/python3.5/site-packages/ipykernel_launcher.py:34: UserWarning: Update your `LSTM` call to the Keras 2 API: `LSTM(512, recurrent_activation=\"sigmoid\", recurrent_initializer=\"uniform\", return_sequences=True, unit_forget_bias=True, activation=\"tanh\", kernel_initializer=\"uniform\")`\n"
     ]
    },
    {
     "name": "stdout",
     "output_type": "stream",
     "text": [
      "_________________________________________________________________\n",
      "Layer (type)                 Output Shape              Param #   \n",
      "=================================================================\n",
      "the_input (InputLayer)       (None, None, 13)          0         \n",
      "_________________________________________________________________\n",
      "dense_39 (Dense)             (None, None, 512)         7168      \n",
      "_________________________________________________________________\n",
      "dense_40 (Dense)             (None, None, 512)         262656    \n",
      "_________________________________________________________________\n",
      "dense_41 (Dense)             (None, None, 512)         262656    \n",
      "_________________________________________________________________\n",
      "bidirectional_30 (Bidirectio (None, None, 1024)        4198400   \n",
      "_________________________________________________________________\n",
      "batch_normalization_30 (Batc (None, None, 1024)        4096      \n",
      "_________________________________________________________________\n",
      "time_distributed_26 (TimeDis (None, None, 29)          29725     \n",
      "_________________________________________________________________\n",
      "softmax (Activation)         (None, None, 29)          0         \n",
      "=================================================================\n",
      "Total params: 4,764,701\n",
      "Trainable params: 4,762,653\n",
      "Non-trainable params: 2,048\n",
      "_________________________________________________________________\n",
      "None\n"
     ]
    }
   ],
   "source": [
    "model_10 = dense_deep_bidirectional_lstm_rnn_dropout_model(input_dim=13, # change to 13 if you would like to use MFCC features\n",
    "                         units=512,\n",
    "                         recur_layers=1) "
   ]
  },
  {
   "cell_type": "code",
   "execution_count": 85,
   "metadata": {},
   "outputs": [
    {
     "name": "stdout",
     "output_type": "stream",
     "text": [
      "Epoch 1/20\n",
      "106/106 [==============================] - 382s 4s/step - loss: 317.6428 - val_loss: 272.8049\n",
      "Epoch 2/20\n",
      "106/106 [==============================] - 380s 4s/step - loss: 242.7500 - val_loss: 228.3452\n",
      "Epoch 3/20\n",
      "106/106 [==============================] - 381s 4s/step - loss: 228.1193 - val_loss: 212.8390\n",
      "Epoch 4/20\n",
      "106/106 [==============================] - 380s 4s/step - loss: 222.7851 - val_loss: 213.6376\n",
      "Epoch 5/20\n",
      "106/106 [==============================] - 383s 4s/step - loss: 228.5543 - val_loss: 213.9322\n",
      "Epoch 6/20\n",
      "106/106 [==============================] - 383s 4s/step - loss: 217.6800 - val_loss: 207.7492\n",
      "Epoch 7/20\n",
      "106/106 [==============================] - 381s 4s/step - loss: 214.8617 - val_loss: 215.8891\n",
      "Epoch 8/20\n",
      "106/106 [==============================] - 378s 4s/step - loss: 215.8944 - val_loss: 190.9292\n",
      "Epoch 9/20\n",
      "106/106 [==============================] - 382s 4s/step - loss: 192.7065 - val_loss: 171.7287\n",
      "Epoch 10/20\n",
      "106/106 [==============================] - 382s 4s/step - loss: 167.6876 - val_loss: 153.5873\n",
      "Epoch 11/20\n",
      "106/106 [==============================] - 380s 4s/step - loss: 152.2101 - val_loss: 147.1110\n",
      "Epoch 12/20\n",
      "106/106 [==============================] - 380s 4s/step - loss: 142.8485 - val_loss: 141.8628\n",
      "Epoch 13/20\n",
      "106/106 [==============================] - 380s 4s/step - loss: 133.7783 - val_loss: 135.7888\n",
      "Epoch 14/20\n",
      "106/106 [==============================] - 380s 4s/step - loss: 127.1838 - val_loss: 134.0991\n",
      "Epoch 15/20\n",
      "106/106 [==============================] - 383s 4s/step - loss: 120.8420 - val_loss: 133.2586\n",
      "Epoch 16/20\n",
      "106/106 [==============================] - 382s 4s/step - loss: 116.1341 - val_loss: 131.6205\n",
      "Epoch 17/20\n",
      "106/106 [==============================] - 383s 4s/step - loss: 110.6416 - val_loss: 127.7533\n",
      "Epoch 18/20\n",
      "106/106 [==============================] - 383s 4s/step - loss: 106.1191 - val_loss: 128.1362\n",
      "Epoch 19/20\n",
      "106/106 [==============================] - 381s 4s/step - loss: 101.4701 - val_loss: 125.5935\n",
      "Epoch 20/20\n",
      "106/106 [==============================] - 380s 4s/step - loss: 96.6773 - val_loss: 127.7333\n"
     ]
    }
   ],
   "source": [
    "from keras.optimizers import Adam\n",
    "\n",
    "train_model(input_to_softmax=model_10, \n",
    "            pickle_path='model_10.pickle', \n",
    "            save_model_path='model_10.h5', \n",
    "            spectrogram=False,\n",
    "            optimizer=Adam(lr=0.001, beta_1=0.9, beta_2=0.999)\n",
    "           ) # change to False if you would like to use MFCC features"
   ]
  },
  {
   "cell_type": "code",
   "execution_count": 86,
   "metadata": {},
   "outputs": [
    {
     "name": "stdout",
     "output_type": "stream",
     "text": [
      "Epoch 1/20\n",
      "106/106 [==============================] - 382s 4s/step - loss: 126.1930 - val_loss: 154.2353\n",
      "Epoch 2/20\n",
      "106/106 [==============================] - 384s 4s/step - loss: 98.4531 - val_loss: 127.9882\n",
      "Epoch 3/20\n",
      "106/106 [==============================] - 382s 4s/step - loss: 88.6661 - val_loss: 127.5219\n",
      "Epoch 4/20\n",
      "106/106 [==============================] - 382s 4s/step - loss: 85.0721 - val_loss: 129.7382\n",
      "Epoch 5/20\n",
      "106/106 [==============================] - 381s 4s/step - loss: 79.4359 - val_loss: 128.0014\n",
      "Epoch 6/20\n",
      "106/106 [==============================] - 381s 4s/step - loss: 74.5085 - val_loss: 132.6882\n",
      "Epoch 7/20\n",
      "106/106 [==============================] - 381s 4s/step - loss: 69.5768 - val_loss: 135.5076\n",
      "Epoch 8/20\n",
      "106/106 [==============================] - 382s 4s/step - loss: 65.5512 - val_loss: 138.6722\n",
      "Epoch 9/20\n",
      "106/106 [==============================] - 380s 4s/step - loss: 60.0054 - val_loss: 140.4596\n",
      "Epoch 10/20\n",
      "106/106 [==============================] - 378s 4s/step - loss: 55.2262 - val_loss: 146.4254\n",
      "Epoch 11/20\n",
      "106/106 [==============================] - 376s 4s/step - loss: 50.0034 - val_loss: 149.0752\n",
      "Epoch 12/20\n",
      "106/106 [==============================] - 379s 4s/step - loss: 45.2559 - val_loss: 152.6850\n",
      "Epoch 13/20\n",
      "106/106 [==============================] - 384s 4s/step - loss: 40.7456 - val_loss: 158.7165\n",
      "Epoch 14/20\n",
      "106/106 [==============================] - 380s 4s/step - loss: 36.4264 - val_loss: 166.3326\n",
      "Epoch 15/20\n",
      "106/106 [==============================] - 384s 4s/step - loss: 32.5495 - val_loss: 171.3850\n",
      "Epoch 16/20\n",
      "106/106 [==============================] - 383s 4s/step - loss: 28.4301 - val_loss: 181.9994\n",
      "Epoch 17/20\n",
      "106/106 [==============================] - 379s 4s/step - loss: 24.3548 - val_loss: 182.0586\n",
      "Epoch 18/20\n",
      "106/106 [==============================] - 382s 4s/step - loss: 22.1288 - val_loss: 192.6747\n",
      "Epoch 19/20\n",
      "106/106 [==============================] - 383s 4s/step - loss: 20.7620 - val_loss: 199.2526\n",
      "Epoch 20/20\n",
      "106/106 [==============================] - 384s 4s/step - loss: 17.7520 - val_loss: 205.6373\n"
     ]
    }
   ],
   "source": [
    "from keras.optimizers import Adam\n",
    "\n",
    "train_model(input_to_softmax=model_10, \n",
    "            pickle_path='model_10_40.pickle', \n",
    "            save_model_path='model_10_40.h5', \n",
    "            spectrogram=False,\n",
    "            optimizer=Adam(lr=0.001, beta_1=0.9, beta_2=0.999)\n",
    "           ) # change to False if you would like to use MFCC features"
   ]
  },
  {
   "cell_type": "code",
   "execution_count": 90,
   "metadata": {},
   "outputs": [],
   "source": [
    "# previous net overfits! add dropout\n",
    "## (Optional) TODO: Try out some more models!\n",
    "### Feel free to use as many code cells as needed.\n",
    "\n",
    "from keras.layers import (BatchNormalization, Conv1D, Dense, Input, \n",
    "    TimeDistributed, Activation, Bidirectional, SimpleRNN, GRU, LSTM, Dropout)\n",
    "from keras.layers.advanced_activations import PReLU\n",
    "\n",
    "def dense_dropout_deep_bidirectional_lstm_rnn_dropout_model(input_dim, units, recur_layers, output_dim=29):\n",
    "    \"\"\" Build a deep recurrent network for speech \n",
    "    \"\"\"\n",
    "    \n",
    "    \n",
    "    # Main acoustic input\n",
    "    input_data = Input(name='the_input', shape=(None, input_dim))\n",
    "   # conv_1d = Conv1D(filters, kernel_size, \n",
    "   #                  strides=conv_stride, \n",
    "    #                 padding=conv_border_mode,\n",
    "     #                activation='relu',\n",
    "      #               name='conv1d')(input_data)\n",
    "    \n",
    "    \n",
    "    recurnn_layers=[]\n",
    "    batchnm_layers=[]\n",
    "    dropout_layers=[]\n",
    "    dropout_prob = 0.5\n",
    "    dense1 = Dense(units)(input_data)\n",
    "    batchnm1 = BatchNormalization()(dense1)\n",
    "    drop1 = Dropout(dropout_prob)(batchnm1)\n",
    "    \n",
    "    dense2 = Dense(units)(drop1)\n",
    "    batchnm2 = BatchNormalization()(dense2)\n",
    "    drop2 = Dropout(dropout_prob)(batchnm2)\n",
    "    \n",
    "    dense3 = Dense(units)(drop2)\n",
    "    batchnm3 = BatchNormalization()(dense3)\n",
    "    drop3 = Dropout(dropout_prob)(batchnm3)\n",
    "    \n",
    "    \n",
    "    recurnn_layers.append(Bidirectional(LSTM(units, activation='tanh',\n",
    "                                                return_sequences=True,\n",
    "                                                init='uniform', inner_init='uniform',\n",
    "                                                forget_bias_init='one', \n",
    "                                                inner_activation='sigmoid'), \n",
    "                                        merge_mode='concat')(drop3))\n",
    "    \n",
    "    batchnm_layers.append(BatchNormalization()(recurnn_layers[0]))\n",
    "    \n",
    "    time_dense = TimeDistributed(Dense(output_dim))(batchnm_layers[0])\n",
    "    \n",
    "    # Add softmax activation layer\n",
    "    y_pred = Activation('softmax', name='softmax')(time_dense)\n",
    "    \n",
    "    # Specify the model\n",
    "    model = Model(inputs=input_data, outputs=y_pred)\n",
    "    model.output_length = lambda x: x\n",
    "    print(model.summary())\n",
    "    return model"
   ]
  },
  {
   "cell_type": "code",
   "execution_count": 91,
   "metadata": {},
   "outputs": [
    {
     "name": "stderr",
     "output_type": "stream",
     "text": [
      "/home/andrzej/.conda/envs/aind-vui/lib/python3.5/site-packages/ipykernel_launcher.py:44: UserWarning: Update your `LSTM` call to the Keras 2 API: `LSTM(512, recurrent_activation=\"sigmoid\", recurrent_initializer=\"uniform\", return_sequences=True, unit_forget_bias=True, activation=\"tanh\", kernel_initializer=\"uniform\")`\n"
     ]
    },
    {
     "name": "stdout",
     "output_type": "stream",
     "text": [
      "_________________________________________________________________\n",
      "Layer (type)                 Output Shape              Param #   \n",
      "=================================================================\n",
      "the_input (InputLayer)       (None, None, 13)          0         \n",
      "_________________________________________________________________\n",
      "dense_48 (Dense)             (None, None, 512)         7168      \n",
      "_________________________________________________________________\n",
      "batch_normalization_32 (Batc (None, None, 512)         2048      \n",
      "_________________________________________________________________\n",
      "dropout_1 (Dropout)          (None, None, 512)         0         \n",
      "_________________________________________________________________\n",
      "dense_49 (Dense)             (None, None, 512)         262656    \n",
      "_________________________________________________________________\n",
      "batch_normalization_33 (Batc (None, None, 512)         2048      \n",
      "_________________________________________________________________\n",
      "dropout_2 (Dropout)          (None, None, 512)         0         \n",
      "_________________________________________________________________\n",
      "dense_50 (Dense)             (None, None, 512)         262656    \n",
      "_________________________________________________________________\n",
      "batch_normalization_34 (Batc (None, None, 512)         2048      \n",
      "_________________________________________________________________\n",
      "dropout_3 (Dropout)          (None, None, 512)         0         \n",
      "_________________________________________________________________\n",
      "bidirectional_32 (Bidirectio (None, None, 1024)        4198400   \n",
      "_________________________________________________________________\n",
      "batch_normalization_35 (Batc (None, None, 1024)        4096      \n",
      "_________________________________________________________________\n",
      "time_distributed_28 (TimeDis (None, None, 29)          29725     \n",
      "_________________________________________________________________\n",
      "softmax (Activation)         (None, None, 29)          0         \n",
      "=================================================================\n",
      "Total params: 4,770,845\n",
      "Trainable params: 4,765,725\n",
      "Non-trainable params: 5,120\n",
      "_________________________________________________________________\n",
      "None\n"
     ]
    }
   ],
   "source": [
    "model_11 = dense_dropout_deep_bidirectional_lstm_rnn_dropout_model(input_dim=13, # change to 13 if you would like to use MFCC features\n",
    "                         units=512,\n",
    "                         recur_layers=1) "
   ]
  },
  {
   "cell_type": "code",
   "execution_count": 92,
   "metadata": {},
   "outputs": [
    {
     "name": "stdout",
     "output_type": "stream",
     "text": [
      "Epoch 1/40\n",
      "106/106 [==============================] - 391s 4s/step - loss: 324.1494 - val_loss: 263.5743\n",
      "Epoch 2/40\n",
      "106/106 [==============================] - 385s 4s/step - loss: 252.8060 - val_loss: 246.3834\n",
      "Epoch 3/40\n",
      "106/106 [==============================] - 388s 4s/step - loss: 239.0079 - val_loss: 249.8758\n",
      "Epoch 4/40\n",
      "106/106 [==============================] - 387s 4s/step - loss: 227.2266 - val_loss: 219.5155\n",
      "Epoch 5/40\n",
      "106/106 [==============================] - 385s 4s/step - loss: 224.9678 - val_loss: 225.3867\n",
      "Epoch 6/40\n",
      "106/106 [==============================] - 388s 4s/step - loss: 228.5255 - val_loss: 220.4993\n",
      "Epoch 7/40\n",
      "106/106 [==============================] - 384s 4s/step - loss: 200.3622 - val_loss: 185.2785\n",
      "Epoch 8/40\n",
      "106/106 [==============================] - 389s 4s/step - loss: 179.9828 - val_loss: 164.6547\n",
      "Epoch 9/40\n",
      "106/106 [==============================] - 387s 4s/step - loss: 167.7097 - val_loss: 158.5125\n",
      "Epoch 10/40\n",
      "106/106 [==============================] - 386s 4s/step - loss: 160.7708 - val_loss: 149.1065\n",
      "Epoch 11/40\n",
      "106/106 [==============================] - 388s 4s/step - loss: 154.2043 - val_loss: 146.8674\n",
      "Epoch 12/40\n",
      "106/106 [==============================] - 389s 4s/step - loss: 148.5192 - val_loss: 146.5177\n",
      "Epoch 13/40\n",
      "106/106 [==============================] - 386s 4s/step - loss: 144.9380 - val_loss: 145.6906\n",
      "Epoch 14/40\n",
      "106/106 [==============================] - 385s 4s/step - loss: 140.7458 - val_loss: 140.3106\n",
      "Epoch 15/40\n",
      "106/106 [==============================] - 385s 4s/step - loss: 137.1675 - val_loss: 138.3350\n",
      "Epoch 16/40\n",
      "106/106 [==============================] - 387s 4s/step - loss: 134.7152 - val_loss: 140.3620\n",
      "Epoch 17/40\n",
      "106/106 [==============================] - 390s 4s/step - loss: 132.1412 - val_loss: 135.1014\n",
      "Epoch 18/40\n",
      "106/106 [==============================] - 386s 4s/step - loss: 127.9094 - val_loss: 136.5503\n",
      "Epoch 19/40\n",
      "106/106 [==============================] - 389s 4s/step - loss: 124.9691 - val_loss: 133.2684\n",
      "Epoch 20/40\n",
      "106/106 [==============================] - 387s 4s/step - loss: 122.1738 - val_loss: 132.2949\n",
      "Epoch 21/40\n",
      "106/106 [==============================] - 388s 4s/step - loss: 120.2531 - val_loss: 130.9285\n",
      "Epoch 22/40\n",
      "106/106 [==============================] - 387s 4s/step - loss: 117.6541 - val_loss: 131.8995\n",
      "Epoch 23/40\n",
      "106/106 [==============================] - 388s 4s/step - loss: 115.1602 - val_loss: 130.1210\n",
      "Epoch 24/40\n",
      "106/106 [==============================] - 387s 4s/step - loss: 112.7038 - val_loss: 129.2170\n",
      "Epoch 25/40\n",
      "106/106 [==============================] - 388s 4s/step - loss: 110.2932 - val_loss: 129.4579\n",
      "Epoch 26/40\n",
      "106/106 [==============================] - 386s 4s/step - loss: 107.9814 - val_loss: 129.8574\n",
      "Epoch 27/40\n",
      "106/106 [==============================] - 388s 4s/step - loss: 105.7173 - val_loss: 128.9656\n",
      "Epoch 28/40\n",
      "106/106 [==============================] - 387s 4s/step - loss: 103.0392 - val_loss: 129.2382\n",
      "Epoch 29/40\n",
      "106/106 [==============================] - 386s 4s/step - loss: 101.0126 - val_loss: 125.8833\n",
      "Epoch 30/40\n",
      "106/106 [==============================] - 386s 4s/step - loss: 98.3187 - val_loss: 128.7888\n",
      "Epoch 31/40\n",
      "106/106 [==============================] - 387s 4s/step - loss: 96.0932 - val_loss: 130.2682\n",
      "Epoch 32/40\n",
      "106/106 [==============================] - 391s 4s/step - loss: 93.7217 - val_loss: 129.4846\n",
      "Epoch 33/40\n",
      "106/106 [==============================] - 388s 4s/step - loss: 88.6553 - val_loss: 132.8248\n",
      "Epoch 35/40\n",
      "106/106 [==============================] - 384s 4s/step - loss: 85.8992 - val_loss: 130.1137\n",
      "Epoch 36/40\n",
      "106/106 [==============================] - 385s 4s/step - loss: 83.9666 - val_loss: 131.7444\n",
      "Epoch 37/40\n",
      "106/106 [==============================] - 384s 4s/step - loss: 81.5972 - val_loss: 131.1067\n",
      "Epoch 38/40\n",
      "106/106 [==============================] - 388s 4s/step - loss: 78.9947 - val_loss: 132.8567\n",
      "Epoch 39/40\n",
      "106/106 [==============================] - 386s 4s/step - loss: 76.6485 - val_loss: 135.1243\n",
      "Epoch 40/40\n",
      "106/106 [==============================] - 386s 4s/step - loss: 73.9129 - val_loss: 134.9543\n"
     ]
    }
   ],
   "source": [
    "from keras.optimizers import Adam\n",
    "\n",
    "train_model(input_to_softmax=model_11, \n",
    "            pickle_path='model_11_40.pickle', \n",
    "            save_model_path='model_11_40.h5', \n",
    "            spectrogram=False,\n",
    "            optimizer=Adam(lr=0.001, beta_1=0.9, beta_2=0.999),\n",
    "            epochs=40\n",
    "           ) # change to False if you would like to use MFCC features"
   ]
  },
  {
   "cell_type": "markdown",
   "metadata": {},
   "source": [
    "<a id='compare'></a>\n",
    "### Compare the Models\n",
    "\n",
    "Execute the code cell below to evaluate the performance of the drafted deep learning models.  The training and validation loss are plotted for each model."
   ]
  },
  {
   "cell_type": "code",
   "execution_count": 122,
   "metadata": {},
   "outputs": [
    {
     "data": {
      "image/png": "[encoded data removed]",
      "text/plain": [
       "<Figure size 1152x360 with 2 Axes>"
      ]
     },
     "metadata": {},
     "output_type": "display_data"
    }
   ],
   "source": [
    "from glob import glob\n",
    "import numpy as np\n",
    "import _pickle as pickle\n",
    "import seaborn as sns\n",
    "import matplotlib.pyplot as plt\n",
    "%matplotlib inline\n",
    "sns.set_style(style='white')\n",
    "\n",
    "# obtain the paths for the saved model history\n",
    "all_pickles = sorted(glob(\"results/*.pickle\"))\n",
    "# extract the name of each model\n",
    "model_names = [item[8:-7] for item in all_pickles]\n",
    "# extract the loss history for each model\n",
    "valid_loss = [pickle.load( open( i, \"rb\" ) )['val_loss'] for i in all_pickles]\n",
    "train_loss = [pickle.load( open( i, \"rb\" ) )['loss'] for i in all_pickles]\n",
    "# save the number of epochs used to train each model\n",
    "num_epochs = [len(valid_loss[i]) for i in range(len(valid_loss))]\n",
    "\n",
    "fig = plt.figure(figsize=(16,5))\n",
    "\n",
    "# plot the training loss vs. epoch for each model\n",
    "ax1 = fig.add_subplot(121)\n",
    "for i in range(len(all_pickles)):\n",
    "    ax1.plot(np.linspace(1, num_epochs[i], num_epochs[i]), \n",
    "            train_loss[i], label=model_names[i])\n",
    "# clean up the plot\n",
    "ax1.legend()  \n",
    "ax1.set_xlim([1, max(num_epochs)])\n",
    "plt.xlabel('Epoch')\n",
    "plt.ylabel('Training Loss')\n",
    "\n",
    "# plot the validation loss vs. epoch for each model\n",
    "ax2 = fig.add_subplot(122)\n",
    "for i in range(len(all_pickles)):\n",
    "    ax2.plot(np.linspace(1, num_epochs[i], num_epochs[i]), \n",
    "            valid_loss[i], label=model_names[i])\n",
    "# clean up the plot\n",
    "ax2.legend()  \n",
    "ax2.set_xlim([1, max(num_epochs)])\n",
    "plt.xlabel('Epoch')\n",
    "plt.ylabel('Validation Loss')\n",
    "plt.show()"
   ]
  },
  {
   "cell_type": "code",
   "execution_count": 140,
   "metadata": {},
   "outputs": [
    {
     "name": "stdout",
     "output_type": "stream",
     "text": [
      "[354.63933045009395, 233.75223210172834, 226.02467634093085, 223.36829952024064, 220.46783404080372, 216.69024902919554, 213.09062122848798, 208.8929758611715, 204.94457230477963, 197.89478186841282, 186.6903483552753, 189.12995493187094, 172.00987718690118, 159.26289885898805, 149.84262984653688, 141.97483249880233, 133.38097352801628, 127.46213718630233, 122.06014568400833, 118.09455087049952]\n",
      "[245.60599502563477, 235.7462173461914, 214.65306015014647, 224.87358154296874, 209.87473892211915, 205.75848205566408, 203.44730270385742, 196.684324798584, 194.71623840332032, 185.29052520751952, 169.93892868041993, 171.65932693481446, 158.63757682800292, 146.04171417236327, 136.95739562988283, 133.94973526000976, 124.31059982299804, 121.06936653137207, 120.33328361511231, 116.17603622436523]\n"
     ]
    }
   ],
   "source": [
    "import pandas as pd\n",
    "names = []\n",
    "steps = []\n",
    "train = []\n",
    "valid = []\n",
    "descriptions={\n",
    "    'model_0': 'RNN',\n",
    "    'model_1': 'RNN + TimeDistributed Dense',\n",
    "    'model_2': 'CNN + RNN + TimeDistributed Dense',\n",
    "    'model_3': 'Deeper RNN + TimeDistributed Dense',\n",
    "    'model_4': 'Bidirectional RNN + TimeDistributed Dense',\n",
    "    'model_5': 'deep_bidirectional_rnn_model',\n",
    "    'model_6': 'Similar to mozilla deepspeech',\n",
    "    'model_7': 'Similar to mozilla deepspeech with 5 recurrent layers',\n",
    "    'model_8': 'deep_bidirectional_lstm_rnn_dropout_model',\n",
    "    'model_8_40': 'deep_bidirectional_lstm_rnn_dropout_model',\n",
    "    'model_9': 'dense_deep_bidirectional_lstm_rnn_dropout_model',\n",
    "    'model_9_40': 'dense_deep_bidirectional_lstm_rnn_dropout_model',\n",
    "    'model_10': 'dense_deep_bidirectional_lstm_rnn_dropout_model with 512 units',\n",
    "    'model_11': 'dense_dropout_deep_bidirectional_lstm_rnn_dropout_model'\n",
    "}\n",
    "\n",
    "for i in range(len(model_names)):\n",
    "    #for j in range(len(train_loss[i])):\n",
    "    j = len(train_loss[i])-1\n",
    "    steps.append(j+1)\n",
    "    names.append(model_names[i])\n",
    "    train.append(train_loss[i][j])\n",
    "    valid.append(valid_loss[i][j])\n",
    "        \n",
    "train_flat = np.reshape(train_loss,(-1,1))\n",
    "valid_flat = np.reshape(valid_loss,(-1,1))\n",
    "\n",
    "print(train_loss[-1])\n",
    "print(valid_loss[-1])\n",
    "\n",
    "df = pd.DataFrame(data={'name': names, 'step': steps, 'training loss': train, 'validation loss': valid})"
   ]
  },
  {
   "cell_type": "code",
   "execution_count": 139,
   "metadata": {},
   "outputs": [
    {
     "data": {
      "text/html": [
       "<div>\n",
       "<style scoped>\n",
       "    .dataframe tbody tr th:only-of-type {\n",
       "        vertical-align: middle;\n",
       "    }\n",
       "\n",
       "    .dataframe tbody tr th {\n",
       "        vertical-align: top;\n",
       "    }\n",
       "\n",
       "    .dataframe thead th {\n",
       "        text-align: right;\n",
       "    }\n",
       "</style>\n",
       "<table border=\"1\" class=\"dataframe\">\n",
       "  <thead>\n",
       "    <tr style=\"text-align: right;\">\n",
       "      <th></th>\n",
       "      <th>name</th>\n",
       "      <th>step</th>\n",
       "      <th>training loss</th>\n",
       "      <th>validation loss</th>\n",
       "    </tr>\n",
       "  </thead>\n",
       "  <tbody>\n",
       "    <tr>\n",
       "      <th>0</th>\n",
       "      <td>model_0</td>\n",
       "      <td>20</td>\n",
       "      <td>753.694139</td>\n",
       "      <td>729.829296</td>\n",
       "    </tr>\n",
       "    <tr>\n",
       "      <th>1</th>\n",
       "      <td>model_1</td>\n",
       "      <td>20</td>\n",
       "      <td>116.944901</td>\n",
       "      <td>134.266166</td>\n",
       "    </tr>\n",
       "    <tr>\n",
       "      <th>2</th>\n",
       "      <td>model_10</td>\n",
       "      <td>20</td>\n",
       "      <td>96.677278</td>\n",
       "      <td>127.733286</td>\n",
       "    </tr>\n",
       "    <tr>\n",
       "      <th>3</th>\n",
       "      <td>model_10_40</td>\n",
       "      <td>20</td>\n",
       "      <td>17.751954</td>\n",
       "      <td>205.637288</td>\n",
       "    </tr>\n",
       "    <tr>\n",
       "      <th>4</th>\n",
       "      <td>model_11_40</td>\n",
       "      <td>40</td>\n",
       "      <td>73.912935</td>\n",
       "      <td>134.954290</td>\n",
       "    </tr>\n",
       "    <tr>\n",
       "      <th>5</th>\n",
       "      <td>model_2</td>\n",
       "      <td>20</td>\n",
       "      <td>85.654983</td>\n",
       "      <td>134.815741</td>\n",
       "    </tr>\n",
       "    <tr>\n",
       "      <th>6</th>\n",
       "      <td>model_3</td>\n",
       "      <td>20</td>\n",
       "      <td>75.529718</td>\n",
       "      <td>121.140794</td>\n",
       "    </tr>\n",
       "    <tr>\n",
       "      <th>7</th>\n",
       "      <td>model_4</td>\n",
       "      <td>20</td>\n",
       "      <td>112.873982</td>\n",
       "      <td>140.126128</td>\n",
       "    </tr>\n",
       "    <tr>\n",
       "      <th>8</th>\n",
       "      <td>model_5</td>\n",
       "      <td>20</td>\n",
       "      <td>73.641797</td>\n",
       "      <td>116.087536</td>\n",
       "    </tr>\n",
       "    <tr>\n",
       "      <th>9</th>\n",
       "      <td>model_6</td>\n",
       "      <td>20</td>\n",
       "      <td>156.065339</td>\n",
       "      <td>167.435018</td>\n",
       "    </tr>\n",
       "    <tr>\n",
       "      <th>10</th>\n",
       "      <td>model_7</td>\n",
       "      <td>20</td>\n",
       "      <td>35.674391</td>\n",
       "      <td>136.597161</td>\n",
       "    </tr>\n",
       "    <tr>\n",
       "      <th>11</th>\n",
       "      <td>model_8</td>\n",
       "      <td>20</td>\n",
       "      <td>159.724229</td>\n",
       "      <td>149.159839</td>\n",
       "    </tr>\n",
       "    <tr>\n",
       "      <th>12</th>\n",
       "      <td>model_8_40</td>\n",
       "      <td>40</td>\n",
       "      <td>109.753926</td>\n",
       "      <td>108.014749</td>\n",
       "    </tr>\n",
       "    <tr>\n",
       "      <th>13</th>\n",
       "      <td>model_9</td>\n",
       "      <td>40</td>\n",
       "      <td>70.138222</td>\n",
       "      <td>144.367579</td>\n",
       "    </tr>\n",
       "    <tr>\n",
       "      <th>14</th>\n",
       "      <td>model_end</td>\n",
       "      <td>20</td>\n",
       "      <td>118.094551</td>\n",
       "      <td>116.176036</td>\n",
       "    </tr>\n",
       "  </tbody>\n",
       "</table>\n",
       "</div>"
      ],
      "text/plain": [
       "           name  step  training loss  validation loss\n",
       "0       model_0    20     753.694139       729.829296\n",
       "1       model_1    20     116.944901       134.266166\n",
       "2      model_10    20      96.677278       127.733286\n",
       "3   model_10_40    20      17.751954       205.637288\n",
       "4   model_11_40    40      73.912935       134.954290\n",
       "5       model_2    20      85.654983       134.815741\n",
       "6       model_3    20      75.529718       121.140794\n",
       "7       model_4    20     112.873982       140.126128\n",
       "8       model_5    20      73.641797       116.087536\n",
       "9       model_6    20     156.065339       167.435018\n",
       "10      model_7    20      35.674391       136.597161\n",
       "11      model_8    20     159.724229       149.159839\n",
       "12   model_8_40    40     109.753926       108.014749\n",
       "13      model_9    40      70.138222       144.367579\n",
       "14    model_end    20     118.094551       116.176036"
      ]
     },
     "execution_count": 139,
     "metadata": {},
     "output_type": "execute_result"
    }
   ],
   "source": [
    "df"
   ]
  },
  {
   "cell_type": "markdown",
   "metadata": {},
   "source": [
    "__Question 1:__ Use the plot above to analyze the performance of each of the attempted architectures.  Which performs best?  Provide an explanation regarding why you think some models perform better than others. \n",
    "\n",
    "__Answer:__ Model 7 has best performance for the training set, but clearly loses in the validation set. So I added dropout to prevent overfitting and created Model 8, which performs best in the validation set. "
   ]
  },
  {
   "cell_type": "markdown",
   "metadata": {},
   "source": [
    "<a id='final'></a>\n",
    "### (IMPLEMENTATION) Final Model\n",
    "\n",
    "Now that you've tried out many sample models, use what you've learned to draft your own architecture!  While your final acoustic model should not be identical to any of the architectures explored above, you are welcome to merely combine the explored layers above into a deeper architecture.  It is **NOT** necessary to include new layer types that were not explored in the notebook.\n",
    "\n",
    "However, if you would like some ideas for even more layer types, check out these ideas for some additional, optional extensions to your model:\n",
    "\n",
    "- If you notice your model is overfitting to the training dataset, consider adding **dropout**!  To add dropout to [recurrent layers](https://faroit.github.io/keras-docs/1.0.2/layers/recurrent/), pay special attention to the `dropout_W`and `dropout_U` arguments.  This [paper](http://arxiv.org/abs/1512.05287) may also provide some interesting theoretical background.\n",
    "- If you choose to include a convolutional layer in your model, you may get better results by working with **dilated convolutions**.  If you choose to use dilated convolutions, make sure that you are able to accurately calculate the length of the acoustic model's output in the `model.output_length` lambda function.  You can read more about dilated convolutions in Google's [WaveNet paper](https://arxiv.org/abs/1609.03499).  For an example of a speech-to-text system that makes use of dilated convolutions, check out this GitHub [repository](https://github.com/buriburisuri/speech-to-text-wavenet).  You can work with dilated convolutions [in Keras](https://keras.io/layers/convolutional/) by paying special attention to the `padding` argument when you specify a convolutional layer.\n",
    "- If your model makes use of convolutional layers, why not also experiment with adding **max pooling**?  Check out [this paper](https://arxiv.org/pdf/1701.02720.pdf) for example architecture that makes use of max pooling in an acoustic model.\n",
    "- So far, you have experimented with a single bidirectional RNN layer.  Consider stacking the bidirectional layers, to produce a [deep bidirectional RNN](https://www.cs.toronto.edu/~graves/asru_2013.pdf)!\n",
    "\n",
    "All models that you specify in this repository should have `output_length` defined as an attribute.  This attribute is a lambda function that maps the (temporal) length of the input acoustic features to the (temporal) length of the output softmax layer.  This function is used in the computation of CTC loss; to see this, look at the `add_ctc_loss` function in `train_utils.py`.  To see where the `output_length` attribute is defined for the models in the code, take a look at the `sample_models.py` file.  You will notice this line of code within most models:\n",
    "```\n",
    "model.output_length = lambda x: x\n",
    "```\n",
    "The acoustic model that incorporates a convolutional layer (`cnn_rnn_model`) has a line that is a bit different:\n",
    "```\n",
    "model.output_length = lambda x: cnn_output_length(\n",
    "        x, kernel_size, conv_border_mode, conv_stride)\n",
    "```\n",
    "\n",
    "In the case of models that use purely recurrent layers, the lambda function is the identity function, as the recurrent layers do not modify the (temporal) length of their input tensors.  However, convolutional layers are more complicated and require a specialized function (`cnn_output_length` in `sample_models.py`) to determine the temporal length of their output.\n",
    "\n",
    "You will have to add the `output_length` attribute to your final model before running the code cell below.  Feel free to use the `cnn_output_length` function, if it suits your model. "
   ]
  },
  {
   "cell_type": "code",
   "execution_count": 119,
   "metadata": {},
   "outputs": [
    {
     "name": "stderr",
     "output_type": "stream",
     "text": [
      "/home/andrzej/Documents/Udacity/AIND/AIND-VUI-Capstone/sample_models.py:171: UserWarning: Update your `LSTM` call to the Keras 2 API: `LSTM(200, recurrent_activation=\"sigmoid\", recurrent_initializer=\"uniform\", return_sequences=True, unit_forget_bias=True, activation=\"tanh\", kernel_initializer=\"uniform\")`\n",
      "  inner_activation='sigmoid'),\n",
      "/home/andrzej/Documents/Udacity/AIND/AIND-VUI-Capstone/sample_models.py:183: UserWarning: Update your `LSTM` call to the Keras 2 API: `LSTM(200, recurrent_activation=\"sigmoid\", recurrent_initializer=\"uniform\", return_sequences=True, unit_forget_bias=True, activation=\"tanh\", kernel_initializer=\"uniform\")`\n",
      "  inner_activation='sigmoid'),\n"
     ]
    },
    {
     "name": "stdout",
     "output_type": "stream",
     "text": [
      "_________________________________________________________________\n",
      "Layer (type)                 Output Shape              Param #   \n",
      "=================================================================\n",
      "the_input (InputLayer)       (None, None, 13)          0         \n",
      "_________________________________________________________________\n",
      "bidirectional_33 (Bidirectio (None, None, 400)         342400    \n",
      "_________________________________________________________________\n",
      "batch_normalization_36 (Batc (None, None, 400)         1600      \n",
      "_________________________________________________________________\n",
      "dropout_4 (Dropout)          (None, None, 400)         0         \n",
      "_________________________________________________________________\n",
      "bidirectional_34 (Bidirectio (None, None, 400)         961600    \n",
      "_________________________________________________________________\n",
      "batch_normalization_37 (Batc (None, None, 400)         1600      \n",
      "_________________________________________________________________\n",
      "dropout_5 (Dropout)          (None, None, 400)         0         \n",
      "_________________________________________________________________\n",
      "bidirectional_35 (Bidirectio (None, None, 400)         961600    \n",
      "_________________________________________________________________\n",
      "batch_normalization_38 (Batc (None, None, 400)         1600      \n",
      "_________________________________________________________________\n",
      "dropout_6 (Dropout)          (None, None, 400)         0         \n",
      "_________________________________________________________________\n",
      "bidirectional_36 (Bidirectio (None, None, 400)         961600    \n",
      "_________________________________________________________________\n",
      "batch_normalization_39 (Batc (None, None, 400)         1600      \n",
      "_________________________________________________________________\n",
      "dropout_7 (Dropout)          (None, None, 400)         0         \n",
      "_________________________________________________________________\n",
      "bidirectional_37 (Bidirectio (None, None, 400)         961600    \n",
      "_________________________________________________________________\n",
      "batch_normalization_40 (Batc (None, None, 400)         1600      \n",
      "_________________________________________________________________\n",
      "dropout_8 (Dropout)          (None, None, 400)         0         \n",
      "_________________________________________________________________\n",
      "time_distributed_29 (TimeDis (None, None, 29)          11629     \n",
      "_________________________________________________________________\n",
      "softmax (Activation)         (None, None, 29)          0         \n",
      "=================================================================\n",
      "Total params: 4,208,429\n",
      "Trainable params: 4,204,429\n",
      "Non-trainable params: 4,000\n",
      "_________________________________________________________________\n",
      "None\n"
     ]
    }
   ],
   "source": [
    "# specify the model\n",
    "\n",
    "model_end = final_model() "
   ]
  },
  {
   "cell_type": "markdown",
   "metadata": {},
   "source": [
    "Please execute the code cell below to train the neural network you specified in `input_to_softmax`.  After the model has finished training, the model is [saved](https://keras.io/getting-started/faq/#how-can-i-save-a-keras-model) in the HDF5 file `model_end.h5`.  The loss history is [saved](https://wiki.python.org/moin/UsingPickle) in `model_end.pickle`.  You are welcome to tweak any of the optional parameters while calling the `train_model` function, but this is not required."
   ]
  },
  {
   "cell_type": "code",
   "execution_count": null,
   "metadata": {},
   "outputs": [
    {
     "name": "stdout",
     "output_type": "stream",
     "text": [
      "Epoch 1/20\n",
      "106/106 [==============================] - 1652s 16s/step - loss: 354.6393 - val_loss: 245.6060\n",
      "Epoch 2/20\n",
      "106/106 [==============================] - 1674s 16s/step - loss: 233.7522 - val_loss: 235.7462\n",
      "Epoch 3/20\n",
      "106/106 [==============================] - 1675s 16s/step - loss: 226.0247 - val_loss: 214.6531\n",
      "Epoch 4/20\n",
      "106/106 [==============================] - 1676s 16s/step - loss: 223.3683 - val_loss: 224.8736\n",
      "Epoch 5/20\n",
      "106/106 [==============================] - 1685s 16s/step - loss: 220.4678 - val_loss: 209.8747\n",
      "Epoch 6/20\n",
      "106/106 [==============================] - 1676s 16s/step - loss: 216.6902 - val_loss: 205.7585\n",
      "Epoch 7/20\n",
      "106/106 [==============================] - 1681s 16s/step - loss: 213.0906 - val_loss: 203.4473\n",
      "Epoch 8/20\n",
      "106/106 [==============================] - 1673s 16s/step - loss: 208.8930 - val_loss: 196.6843\n",
      "Epoch 9/20\n",
      "106/106 [==============================] - 1676s 16s/step - loss: 204.9446 - val_loss: 194.7162\n",
      "Epoch 10/20\n",
      "106/106 [==============================] - 1673s 16s/step - loss: 197.8948 - val_loss: 185.2905\n",
      "Epoch 11/20\n",
      "106/106 [==============================] - 1676s 16s/step - loss: 186.6903 - val_loss: 169.9389\n",
      "Epoch 12/20\n",
      "106/106 [==============================] - 1669s 16s/step - loss: 189.1300 - val_loss: 171.6593\n",
      "Epoch 13/20\n",
      "106/106 [==============================] - 1673s 16s/step - loss: 172.0099 - val_loss: 158.6376\n",
      "Epoch 14/20\n",
      "106/106 [==============================] - 1674s 16s/step - loss: 159.2629 - val_loss: 146.0417\n",
      "Epoch 15/20\n",
      "106/106 [==============================] - 1668s 16s/step - loss: 149.8426 - val_loss: 136.9574\n",
      "Epoch 16/20\n",
      "106/106 [==============================] - 1671s 16s/step - loss: 141.9748 - val_loss: 133.9497\n",
      "Epoch 17/20\n",
      "106/106 [==============================] - 1678s 16s/step - loss: 133.3810 - val_loss: 124.3106\n",
      "Epoch 18/20\n",
      "106/106 [==============================] - 1659s 16s/step - loss: 127.4621 - val_loss: 121.0693\n",
      "Epoch 19/20\n",
      "106/106 [==============================] - 1663s 16s/step - loss: 122.0601 - val_loss: 120.3333\n",
      "Epoch 20/20\n",
      "106/106 [==============================] - 1668s 16s/step - loss: 118.0945 - val_loss: 116.1760\n"
     ]
    }
   ],
   "source": [
    "train_model(input_to_softmax=model_end, \n",
    "            pickle_path='model_end.pickle', \n",
    "            save_model_path='model_end.h5', \n",
    "            spectrogram=False,\n",
    "            optimizer='adam') # change to False if you would like to use MFCC features"
   ]
  },
  {
   "cell_type": "markdown",
   "metadata": {},
   "source": [
    "__Question 2:__ Describe your final model architecture and your reasoning at each step.  \n",
    "\n",
    "__Answer:__ I used some of the ideas given in the notebook, made the RNN part deeper (5 layers), switched from SimpleRNN to LSTM and finally added dropout to prevent overfitting."
   ]
  },
  {
   "cell_type": "markdown",
   "metadata": {},
   "source": [
    "<a id='step3'></a>\n",
    "## STEP 3: Obtain Predictions\n",
    "\n",
    "We have written a function for you to decode the predictions of your acoustic model.  To use the function, please execute the code cell below."
   ]
  },
  {
   "cell_type": "code",
   "execution_count": 130,
   "metadata": {},
   "outputs": [],
   "source": [
    "import numpy as np\n",
    "from data_generator import AudioGenerator\n",
    "from keras import backend as K\n",
    "from utils import int_sequence_to_text\n",
    "from IPython.display import Audio\n",
    "\n",
    "def get_predictions(index, partition, input_to_softmax, model_path):\n",
    "    \"\"\" Print a model's decoded predictions\n",
    "    Params:\n",
    "        index (int): The example you would like to visualize\n",
    "        partition (str): One of 'train' or 'validation'\n",
    "        input_to_softmax (Model): The acoustic model\n",
    "        model_path (str): Path to saved acoustic model's weights\n",
    "    \"\"\"\n",
    "    # load the train and test data\n",
    "    data_gen = AudioGenerator(spectrogram=False)\n",
    "    data_gen.load_train_data()\n",
    "    data_gen.load_validation_data()\n",
    "    \n",
    "    # obtain the true transcription and the audio features \n",
    "    if partition == 'validation':\n",
    "        transcr = data_gen.valid_texts[index]\n",
    "        audio_path = data_gen.valid_audio_paths[index]\n",
    "        data_point = data_gen.normalize(data_gen.featurize(audio_path))\n",
    "    elif partition == 'train':\n",
    "        transcr = data_gen.train_texts[index]\n",
    "        audio_path = data_gen.train_audio_paths[index]\n",
    "        data_point = data_gen.normalize(data_gen.featurize(audio_path))\n",
    "    else:\n",
    "        raise Exception('Invalid partition!  Must be \"train\" or \"validation\"')\n",
    "        \n",
    "    # obtain and decode the acoustic model's predictions\n",
    "    input_to_softmax.load_weights(model_path)\n",
    "    prediction = input_to_softmax.predict(np.expand_dims(data_point, axis=0))\n",
    "    output_length = [input_to_softmax.output_length(data_point.shape[0])] \n",
    "    pred_ints = (K.eval(K.ctc_decode(\n",
    "                prediction, output_length)[0][0])+1).flatten().tolist()\n",
    "    \n",
    "    # play the audio file, and display the true and predicted transcriptions\n",
    "    print('-'*80)\n",
    "    Audio(audio_path)\n",
    "    print('True transcription:\\n' + '\\n' + transcr)\n",
    "    print('-'*80)\n",
    "    print('Predicted transcription:\\n' + '\\n' + ''.join(int_sequence_to_text(pred_ints)))\n",
    "    print('-'*80)"
   ]
  },
  {
   "cell_type": "markdown",
   "metadata": {},
   "source": [
    "Use the code cell below to obtain the transcription predicted by your final model for the first example in the training dataset."
   ]
  },
  {
   "cell_type": "code",
   "execution_count": 136,
   "metadata": {},
   "outputs": [
    {
     "name": "stderr",
     "output_type": "stream",
     "text": [
      "/home/andrzej/Documents/Udacity/AIND/AIND-VUI-Capstone/sample_models.py:171: UserWarning: Update your `LSTM` call to the Keras 2 API: `LSTM(200, recurrent_activation=\"sigmoid\", recurrent_initializer=\"uniform\", return_sequences=True, unit_forget_bias=True, activation=\"tanh\", kernel_initializer=\"uniform\")`\n",
      "  inner_activation='sigmoid'),\n",
      "/home/andrzej/Documents/Udacity/AIND/AIND-VUI-Capstone/sample_models.py:183: UserWarning: Update your `LSTM` call to the Keras 2 API: `LSTM(200, recurrent_activation=\"sigmoid\", recurrent_initializer=\"uniform\", return_sequences=True, unit_forget_bias=True, activation=\"tanh\", kernel_initializer=\"uniform\")`\n",
      "  inner_activation='sigmoid'),\n"
     ]
    },
    {
     "name": "stdout",
     "output_type": "stream",
     "text": [
      "_________________________________________________________________\n",
      "Layer (type)                 Output Shape              Param #   \n",
      "=================================================================\n",
      "the_input (InputLayer)       (None, None, 13)          0         \n",
      "_________________________________________________________________\n",
      "bidirectional_63 (Bidirectio (None, None, 400)         342400    \n",
      "_________________________________________________________________\n",
      "batch_normalization_66 (Batc (None, None, 400)         1600      \n",
      "_________________________________________________________________\n",
      "dropout_24 (Dropout)         (None, None, 400)         0         \n",
      "_________________________________________________________________\n",
      "bidirectional_64 (Bidirectio (None, None, 400)         961600    \n",
      "_________________________________________________________________\n",
      "batch_normalization_67 (Batc (None, None, 400)         1600      \n",
      "_________________________________________________________________\n",
      "dropout_25 (Dropout)         (None, None, 400)         0         \n",
      "_________________________________________________________________\n",
      "bidirectional_65 (Bidirectio (None, None, 400)         961600    \n",
      "_________________________________________________________________\n",
      "batch_normalization_68 (Batc (None, None, 400)         1600      \n",
      "_________________________________________________________________\n",
      "dropout_26 (Dropout)         (None, None, 400)         0         \n",
      "_________________________________________________________________\n",
      "bidirectional_66 (Bidirectio (None, None, 400)         961600    \n",
      "_________________________________________________________________\n",
      "batch_normalization_69 (Batc (None, None, 400)         1600      \n",
      "_________________________________________________________________\n",
      "dropout_27 (Dropout)         (None, None, 400)         0         \n",
      "_________________________________________________________________\n",
      "bidirectional_67 (Bidirectio (None, None, 400)         961600    \n",
      "_________________________________________________________________\n",
      "batch_normalization_70 (Batc (None, None, 400)         1600      \n",
      "_________________________________________________________________\n",
      "dropout_28 (Dropout)         (None, None, 400)         0         \n",
      "_________________________________________________________________\n",
      "time_distributed_35 (TimeDis (None, None, 29)          11629     \n",
      "_________________________________________________________________\n",
      "softmax (Activation)         (None, None, 29)          0         \n",
      "=================================================================\n",
      "Total params: 4,208,429\n",
      "Trainable params: 4,204,429\n",
      "Non-trainable params: 4,000\n",
      "_________________________________________________________________\n",
      "None\n",
      "--------------------------------------------------------------------------------\n",
      "True transcription:\n",
      "\n",
      "we remained several months but soon we were on the tramp again\n",
      "--------------------------------------------------------------------------------\n",
      "Predicted transcription:\n",
      "\n",
      "we r man e re lon bot soe wrn the pra te ga\n",
      "--------------------------------------------------------------------------------\n"
     ]
    }
   ],
   "source": [
    "get_predictions(index=0, \n",
    "                partition='train',\n",
    "                input_to_softmax=final_model(), \n",
    "                model_path='results/model_end.h5')"
   ]
  },
  {
   "cell_type": "markdown",
   "metadata": {},
   "source": [
    "Use the next code cell to visualize the model's prediction for the first example in the validation dataset."
   ]
  },
  {
   "cell_type": "code",
   "execution_count": 137,
   "metadata": {},
   "outputs": [
    {
     "name": "stderr",
     "output_type": "stream",
     "text": [
      "/home/andrzej/Documents/Udacity/AIND/AIND-VUI-Capstone/sample_models.py:171: UserWarning: Update your `LSTM` call to the Keras 2 API: `LSTM(200, recurrent_activation=\"sigmoid\", recurrent_initializer=\"uniform\", return_sequences=True, unit_forget_bias=True, activation=\"tanh\", kernel_initializer=\"uniform\")`\n",
      "  inner_activation='sigmoid'),\n",
      "/home/andrzej/Documents/Udacity/AIND/AIND-VUI-Capstone/sample_models.py:183: UserWarning: Update your `LSTM` call to the Keras 2 API: `LSTM(200, recurrent_activation=\"sigmoid\", recurrent_initializer=\"uniform\", return_sequences=True, unit_forget_bias=True, activation=\"tanh\", kernel_initializer=\"uniform\")`\n",
      "  inner_activation='sigmoid'),\n"
     ]
    },
    {
     "name": "stdout",
     "output_type": "stream",
     "text": [
      "_________________________________________________________________\n",
      "Layer (type)                 Output Shape              Param #   \n",
      "=================================================================\n",
      "the_input (InputLayer)       (None, None, 13)          0         \n",
      "_________________________________________________________________\n",
      "bidirectional_68 (Bidirectio (None, None, 400)         342400    \n",
      "_________________________________________________________________\n",
      "batch_normalization_71 (Batc (None, None, 400)         1600      \n",
      "_________________________________________________________________\n",
      "dropout_29 (Dropout)         (None, None, 400)         0         \n",
      "_________________________________________________________________\n",
      "bidirectional_69 (Bidirectio (None, None, 400)         961600    \n",
      "_________________________________________________________________\n",
      "batch_normalization_72 (Batc (None, None, 400)         1600      \n",
      "_________________________________________________________________\n",
      "dropout_30 (Dropout)         (None, None, 400)         0         \n",
      "_________________________________________________________________\n",
      "bidirectional_70 (Bidirectio (None, None, 400)         961600    \n",
      "_________________________________________________________________\n",
      "batch_normalization_73 (Batc (None, None, 400)         1600      \n",
      "_________________________________________________________________\n",
      "dropout_31 (Dropout)         (None, None, 400)         0         \n",
      "_________________________________________________________________\n",
      "bidirectional_71 (Bidirectio (None, None, 400)         961600    \n",
      "_________________________________________________________________\n",
      "batch_normalization_74 (Batc (None, None, 400)         1600      \n",
      "_________________________________________________________________\n",
      "dropout_32 (Dropout)         (None, None, 400)         0         \n",
      "_________________________________________________________________\n",
      "bidirectional_72 (Bidirectio (None, None, 400)         961600    \n",
      "_________________________________________________________________\n",
      "batch_normalization_75 (Batc (None, None, 400)         1600      \n",
      "_________________________________________________________________\n",
      "dropout_33 (Dropout)         (None, None, 400)         0         \n",
      "_________________________________________________________________\n",
      "time_distributed_36 (TimeDis (None, None, 29)          11629     \n",
      "_________________________________________________________________\n",
      "softmax (Activation)         (None, None, 29)          0         \n",
      "=================================================================\n",
      "Total params: 4,208,429\n",
      "Trainable params: 4,204,429\n",
      "Non-trainable params: 4,000\n",
      "_________________________________________________________________\n",
      "None\n",
      "--------------------------------------------------------------------------------\n",
      "True transcription:\n",
      "\n",
      "ojo examined this curious contrivance with wonder\n",
      "--------------------------------------------------------------------------------\n",
      "Predicted transcription:\n",
      "\n",
      " don s anmin this caris contri ens wi wonder\n",
      "--------------------------------------------------------------------------------\n"
     ]
    }
   ],
   "source": [
    "get_predictions(index=0, \n",
    "                partition='validation',\n",
    "                input_to_softmax=final_model(), \n",
    "                model_path='results/model_end.h5')"
   ]
  },
  {
   "cell_type": "markdown",
   "metadata": {},
   "source": [
    "One standard way to improve the results of the decoder is to incorporate a language model.  We won't pursue this in the notebook, but you are welcome to do so as an _optional extension_. \n",
    "\n",
    "If you are interested in creating models that provide improved transcriptions, you are encouraged to download [more data](http://www.openslr.org/12/) and train bigger, deeper models.  But beware - the model will likely take a long while to train.  For instance, training this [state-of-the-art](https://arxiv.org/pdf/1512.02595v1.pdf) model would take 3-6 weeks on a single GPU!"
   ]
  }
 ],
 "metadata": {
  "anaconda-cloud": {},
  "kernelspec": {
   "display_name": "Python 3",
   "language": "python",
   "name": "python3"
  },
  "language_info": {
   "codemirror_mode": {
    "name": "ipython",
    "version": 3
   },
   "file_extension": ".py",
   "mimetype": "text/x-python",
   "name": "python",
   "nbconvert_exporter": "python",
   "pygments_lexer": "ipython3",
   "version": "3.5.5"
  }
 },
 "nbformat": 4,
 "nbformat_minor": 2
}
